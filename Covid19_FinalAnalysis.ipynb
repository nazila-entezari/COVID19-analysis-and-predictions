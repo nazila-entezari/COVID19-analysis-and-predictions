{
 "cells": [
  {
   "cell_type": "code",
   "execution_count": 1,
   "metadata": {},
   "outputs": [],
   "source": [
    "# Dependencies\n",
    "import requests\n",
    "from pprint import pprint\n",
    "import pandas as pd \n",
    "import matplotlib.pyplot as plt\n",
    "import datetime\n",
    "from scipy.stats import linregress, pearsonr\n",
    "import scipy.stats as stats\n",
    "import scipy\n",
    "import numpy as np\n",
    "from scipy.optimize import curve_fit\n",
    "import math\n",
    "import gmaps\n",
    "from scipy.stats import boxcox\n",
    "\n",
    "\n",
    "\n",
    "from config import gkey\n",
    "# Configure gmaps\n",
    "gmaps.configure(api_key=gkey)"
   ]
  },
  {
   "cell_type": "markdown",
   "metadata": {},
   "source": [
    "# Calling the dataset from the API"
   ]
  },
  {
   "cell_type": "code",
   "execution_count": 2,
   "metadata": {},
   "outputs": [],
   "source": [
    "# Calling the API\n",
    "url = \"https://api.covid19api.com/all\"\n",
    "\n",
    "response1 = requests.get(url).json()\n",
    "response1\n",
    "\n",
    "country = []\n",
    "date = []\n",
    "total_cases = []\n",
    "total_deaths = []\n",
    "total_recovered = []\n",
    "\n",
    "for row in response1:\n",
    "    country.append(row['Country'])\n",
    "    date.append(row[\"Date\"])\n",
    "    total_cases.append(row['Confirmed'])\n",
    "    total_deaths.append(row['Deaths'])\n",
    "    total_recovered.append(row['Recovered'])\n",
    "    "
   ]
  },
  {
   "cell_type": "code",
   "execution_count": 3,
   "metadata": {},
   "outputs": [],
   "source": [
    "#creating the dataframe\n",
    "covid_new_df1 = pd.DataFrame({\n",
    "                            'Country': country,\n",
    "                            'Date': date,\n",
    "                            'Total Cases': total_cases,\n",
    "                            'Total Deaths': total_deaths,\n",
    "                            'Total Recovered': total_recovered\n",
    "})\n"
   ]
  },
  {
   "cell_type": "code",
   "execution_count": 4,
   "metadata": {},
   "outputs": [
    {
     "data": {
      "text/plain": [
       "658052"
      ]
     },
     "execution_count": 4,
     "metadata": {},
     "output_type": "execute_result"
    }
   ],
   "source": [
    "#counting the number of rows\n",
    "len(covid_new_df1)"
   ]
  },
  {
   "cell_type": "code",
   "execution_count": 5,
   "metadata": {},
   "outputs": [
    {
     "data": {
      "text/plain": [
       "Country            object\n",
       "Date               object\n",
       "Total Cases         int64\n",
       "Total Deaths        int64\n",
       "Total Recovered     int64\n",
       "dtype: object"
      ]
     },
     "execution_count": 5,
     "metadata": {},
     "output_type": "execute_result"
    }
   ],
   "source": [
    "#recognizing the data types\n",
    "covid_new_df1.dtypes"
   ]
  },
  {
   "cell_type": "markdown",
   "metadata": {},
   "source": [
    "# Cleaning the data"
   ]
  },
  {
   "cell_type": "code",
   "execution_count": 6,
   "metadata": {
    "scrolled": true
   },
   "outputs": [
    {
     "data": {
      "text/html": [
       "<div>\n",
       "<style scoped>\n",
       "    .dataframe tbody tr th:only-of-type {\n",
       "        vertical-align: middle;\n",
       "    }\n",
       "\n",
       "    .dataframe tbody tr th {\n",
       "        vertical-align: top;\n",
       "    }\n",
       "\n",
       "    .dataframe thead th {\n",
       "        text-align: right;\n",
       "    }\n",
       "</style>\n",
       "<table border=\"1\" class=\"dataframe\">\n",
       "  <thead>\n",
       "    <tr style=\"text-align: right;\">\n",
       "      <th></th>\n",
       "      <th>Country</th>\n",
       "      <th>Date</th>\n",
       "      <th>Total Cases</th>\n",
       "      <th>Total Deaths</th>\n",
       "      <th>Total Recovered</th>\n",
       "    </tr>\n",
       "  </thead>\n",
       "  <tbody>\n",
       "    <tr>\n",
       "      <th>0</th>\n",
       "      <td>Afghanistan</td>\n",
       "      <td>2020-01-22T00:00:00Z</td>\n",
       "      <td>0</td>\n",
       "      <td>0</td>\n",
       "      <td>0</td>\n",
       "    </tr>\n",
       "    <tr>\n",
       "      <th>1</th>\n",
       "      <td>Afghanistan</td>\n",
       "      <td>2020-01-23T00:00:00Z</td>\n",
       "      <td>0</td>\n",
       "      <td>0</td>\n",
       "      <td>0</td>\n",
       "    </tr>\n",
       "    <tr>\n",
       "      <th>2</th>\n",
       "      <td>Afghanistan</td>\n",
       "      <td>2020-01-24T00:00:00Z</td>\n",
       "      <td>0</td>\n",
       "      <td>0</td>\n",
       "      <td>0</td>\n",
       "    </tr>\n",
       "    <tr>\n",
       "      <th>3</th>\n",
       "      <td>Afghanistan</td>\n",
       "      <td>2020-01-25T00:00:00Z</td>\n",
       "      <td>0</td>\n",
       "      <td>0</td>\n",
       "      <td>0</td>\n",
       "    </tr>\n",
       "    <tr>\n",
       "      <th>4</th>\n",
       "      <td>Afghanistan</td>\n",
       "      <td>2020-01-26T00:00:00Z</td>\n",
       "      <td>0</td>\n",
       "      <td>0</td>\n",
       "      <td>0</td>\n",
       "    </tr>\n",
       "  </tbody>\n",
       "</table>\n",
       "</div>"
      ],
      "text/plain": [
       "       Country                  Date  Total Cases  Total Deaths  \\\n",
       "0  Afghanistan  2020-01-22T00:00:00Z            0             0   \n",
       "1  Afghanistan  2020-01-23T00:00:00Z            0             0   \n",
       "2  Afghanistan  2020-01-24T00:00:00Z            0             0   \n",
       "3  Afghanistan  2020-01-25T00:00:00Z            0             0   \n",
       "4  Afghanistan  2020-01-26T00:00:00Z            0             0   \n",
       "\n",
       "   Total Recovered  \n",
       "0                0  \n",
       "1                0  \n",
       "2                0  \n",
       "3                0  \n",
       "4                0  "
      ]
     },
     "execution_count": 6,
     "metadata": {},
     "output_type": "execute_result"
    }
   ],
   "source": [
    "# cleaning the data for the US\n",
    "US_df=covid_new_df1.loc[(covid_new_df1[\"Country\"]=='United States of America')]\n",
    "new_us_df=US_df.groupby('Date').max().reset_index()\n",
    "covid_new_df1=covid_new_df1.loc[(covid_new_df1[\"Country\"]!='United States of America')]\n",
    "frames=[covid_new_df1,new_us_df]\n",
    "covid_new_df1 = pd.concat(frames)\n",
    "covid_new_df1.head()"
   ]
  },
  {
   "cell_type": "code",
   "execution_count": 7,
   "metadata": {},
   "outputs": [],
   "source": [
    "#change dateformats from objects to date time format \n",
    "covid_new_df1.loc[:,'Date']=pd.to_datetime(covid_new_df1.loc[:,\"Date\"]).apply(lambda x: x.date())\n",
    "clean_covid19=covid_new_df1\n",
    "clean_covid19.to_csv('Resources/clean_covid19_from_API')\n"
   ]
  },
  {
   "cell_type": "code",
   "execution_count": 8,
   "metadata": {},
   "outputs": [
    {
     "data": {
      "text/plain": [
       "183"
      ]
     },
     "execution_count": 8,
     "metadata": {},
     "output_type": "execute_result"
    }
   ],
   "source": [
    "#since our data from the API is updated daily and hence is dynamic. so any day this is ran, the results may vary. please be minful of that!\n",
    "number_of_countries=clean_covid19['Country'].value_counts()\n",
    "days=len(clean_covid19['Date'].value_counts())\n",
    "days"
   ]
  },
  {
   "cell_type": "markdown",
   "metadata": {},
   "source": [
    "# Analysing the Dataframe"
   ]
  },
  {
   "cell_type": "code",
   "execution_count": 9,
   "metadata": {},
   "outputs": [
    {
     "data": {
      "text/html": [
       "<div>\n",
       "<style scoped>\n",
       "    .dataframe tbody tr th:only-of-type {\n",
       "        vertical-align: middle;\n",
       "    }\n",
       "\n",
       "    .dataframe tbody tr th {\n",
       "        vertical-align: top;\n",
       "    }\n",
       "\n",
       "    .dataframe thead th {\n",
       "        text-align: right;\n",
       "    }\n",
       "</style>\n",
       "<table border=\"1\" class=\"dataframe\">\n",
       "  <thead>\n",
       "    <tr style=\"text-align: right;\">\n",
       "      <th></th>\n",
       "      <th>Date</th>\n",
       "      <th>Total Cases</th>\n",
       "      <th>Total Deaths</th>\n",
       "      <th>Total Recovered</th>\n",
       "    </tr>\n",
       "  </thead>\n",
       "  <tbody>\n",
       "    <tr>\n",
       "      <th>0</th>\n",
       "      <td>2020-01-22</td>\n",
       "      <td>555</td>\n",
       "      <td>17</td>\n",
       "      <td>28</td>\n",
       "    </tr>\n",
       "    <tr>\n",
       "      <th>1</th>\n",
       "      <td>2020-01-23</td>\n",
       "      <td>654</td>\n",
       "      <td>18</td>\n",
       "      <td>30</td>\n",
       "    </tr>\n",
       "    <tr>\n",
       "      <th>2</th>\n",
       "      <td>2020-01-24</td>\n",
       "      <td>941</td>\n",
       "      <td>26</td>\n",
       "      <td>36</td>\n",
       "    </tr>\n",
       "    <tr>\n",
       "      <th>3</th>\n",
       "      <td>2020-01-25</td>\n",
       "      <td>1434</td>\n",
       "      <td>42</td>\n",
       "      <td>39</td>\n",
       "    </tr>\n",
       "    <tr>\n",
       "      <th>4</th>\n",
       "      <td>2020-01-26</td>\n",
       "      <td>2118</td>\n",
       "      <td>56</td>\n",
       "      <td>52</td>\n",
       "    </tr>\n",
       "  </tbody>\n",
       "</table>\n",
       "</div>"
      ],
      "text/plain": [
       "         Date  Total Cases  Total Deaths  Total Recovered\n",
       "0  2020-01-22          555            17               28\n",
       "1  2020-01-23          654            18               30\n",
       "2  2020-01-24          941            26               36\n",
       "3  2020-01-25         1434            42               39\n",
       "4  2020-01-26         2118            56               52"
      ]
     },
     "execution_count": 9,
     "metadata": {},
     "output_type": "execute_result"
    }
   ],
   "source": [
    "#grouping by date and summing up the global data for each date\n",
    "grouped_data = covid_new_df1.groupby(\"Date\").sum()\n",
    "grouped_data_df = grouped_data.reset_index()\n",
    "grouped_data_df.head()"
   ]
  },
  {
   "cell_type": "code",
   "execution_count": 10,
   "metadata": {},
   "outputs": [
    {
     "data": {
      "text/html": [
       "<div>\n",
       "<style scoped>\n",
       "    .dataframe tbody tr th:only-of-type {\n",
       "        vertical-align: middle;\n",
       "    }\n",
       "\n",
       "    .dataframe tbody tr th {\n",
       "        vertical-align: top;\n",
       "    }\n",
       "\n",
       "    .dataframe thead th {\n",
       "        text-align: right;\n",
       "    }\n",
       "</style>\n",
       "<table border=\"1\" class=\"dataframe\">\n",
       "  <thead>\n",
       "    <tr style=\"text-align: right;\">\n",
       "      <th></th>\n",
       "      <th>Total Cases</th>\n",
       "      <th>Total Deaths</th>\n",
       "      <th>Total Recovered</th>\n",
       "    </tr>\n",
       "    <tr>\n",
       "      <th>Date</th>\n",
       "      <th></th>\n",
       "      <th></th>\n",
       "      <th></th>\n",
       "    </tr>\n",
       "  </thead>\n",
       "  <tbody>\n",
       "    <tr>\n",
       "      <th>2020-01-22</th>\n",
       "      <td>555</td>\n",
       "      <td>17</td>\n",
       "      <td>28</td>\n",
       "    </tr>\n",
       "    <tr>\n",
       "      <th>2020-01-23</th>\n",
       "      <td>654</td>\n",
       "      <td>18</td>\n",
       "      <td>30</td>\n",
       "    </tr>\n",
       "    <tr>\n",
       "      <th>2020-01-24</th>\n",
       "      <td>941</td>\n",
       "      <td>26</td>\n",
       "      <td>36</td>\n",
       "    </tr>\n",
       "    <tr>\n",
       "      <th>2020-01-25</th>\n",
       "      <td>1434</td>\n",
       "      <td>42</td>\n",
       "      <td>39</td>\n",
       "    </tr>\n",
       "    <tr>\n",
       "      <th>2020-01-26</th>\n",
       "      <td>2118</td>\n",
       "      <td>56</td>\n",
       "      <td>52</td>\n",
       "    </tr>\n",
       "    <tr>\n",
       "      <th>...</th>\n",
       "      <td>...</td>\n",
       "      <td>...</td>\n",
       "      <td>...</td>\n",
       "    </tr>\n",
       "    <tr>\n",
       "      <th>2020-07-18</th>\n",
       "      <td>14292208</td>\n",
       "      <td>602130</td>\n",
       "      <td>8045164</td>\n",
       "    </tr>\n",
       "    <tr>\n",
       "      <th>2020-07-19</th>\n",
       "      <td>14506855</td>\n",
       "      <td>606159</td>\n",
       "      <td>8133041</td>\n",
       "    </tr>\n",
       "    <tr>\n",
       "      <th>2020-07-20</th>\n",
       "      <td>14713633</td>\n",
       "      <td>610207</td>\n",
       "      <td>8292037</td>\n",
       "    </tr>\n",
       "    <tr>\n",
       "      <th>2020-07-21</th>\n",
       "      <td>14947088</td>\n",
       "      <td>616431</td>\n",
       "      <td>8466527</td>\n",
       "    </tr>\n",
       "    <tr>\n",
       "      <th>2020-07-22</th>\n",
       "      <td>15226801</td>\n",
       "      <td>623369</td>\n",
       "      <td>8640646</td>\n",
       "    </tr>\n",
       "  </tbody>\n",
       "</table>\n",
       "<p>183 rows × 3 columns</p>\n",
       "</div>"
      ],
      "text/plain": [
       "            Total Cases  Total Deaths  Total Recovered\n",
       "Date                                                  \n",
       "2020-01-22          555            17               28\n",
       "2020-01-23          654            18               30\n",
       "2020-01-24          941            26               36\n",
       "2020-01-25         1434            42               39\n",
       "2020-01-26         2118            56               52\n",
       "...                 ...           ...              ...\n",
       "2020-07-18     14292208        602130          8045164\n",
       "2020-07-19     14506855        606159          8133041\n",
       "2020-07-20     14713633        610207          8292037\n",
       "2020-07-21     14947088        616431          8466527\n",
       "2020-07-22     15226801        623369          8640646\n",
       "\n",
       "[183 rows x 3 columns]"
      ]
     },
     "execution_count": 10,
     "metadata": {},
     "output_type": "execute_result"
    }
   ],
   "source": [
    "#dropping the NAN values\n",
    "grouped_data1=grouped_data.dropna()\n",
    "grouped_data1"
   ]
  },
  {
   "cell_type": "code",
   "execution_count": 37,
   "metadata": {},
   "outputs": [
    {
     "data": {
      "image/png": "[encoded data removed]",
      "text/plain": [
       "<Figure size 432x288 with 1 Axes>"
      ]
     },
     "metadata": {
      "needs_background": "light"
     },
     "output_type": "display_data"
    }
   ],
   "source": [
    "#plotting the global trend for Total cases and the linear regression\n",
    "test = grouped_data1.reset_index().reset_index()\n",
    "\n",
    "test[\"index\"] = test[\"index\"] + 1\n",
    "plt.plot(test[\"index\"], test[\"Total Cases\"])\n",
    "(slope, intercept, rvalue, pvalue, stderr) = linregress(test[\"index\"], test[\"Total Cases\"])\n",
    "regress_values = test[\"index\"] * slope + intercept\n",
    "line_eq = \"y = \" + str(round(slope,2)) + \"x + \" + str(round(intercept,2))\n",
    "plt.plot(test[\"index\"], regress_values,\"r-\")\n",
    "plt.annotate(line_eq,(75,10),fontsize=15,color=\"red\")\n",
    "plt.title(\"COVID19 GLOBAL TREND FOR TOTAL CASES WITH LINEAR REGRESSION\")\n",
    "plt.xlabel(\"# OF DAYS SINCE FIRST CASE\")\n",
    "plt.ylabel(\"# OF CASES\")\n",
    "plt.savefig('output/covid19_fig1')\n",
    "plt.show()\n"
   ]
  },
  {
   "cell_type": "code",
   "execution_count": 12,
   "metadata": {},
   "outputs": [
    {
     "name": "stdout",
     "output_type": "stream",
     "text": [
      "For COVID-19, Total cases is15134140 and Total Deaths is620018; so the death rate is %4.1\n"
     ]
    },
    {
     "data": {
      "image/png": "[encoded data removed]",
      "text/plain": [
       "<Figure size 432x288 with 1 Axes>"
      ]
     },
     "metadata": {
      "needs_background": "light"
     },
     "output_type": "display_data"
    }
   ],
   "source": [
    "# covid-19 Cases and Deaths bar chart\n",
    "global_total = clean_covid19.groupby(['Country'])['Total Cases'].max().sum()\n",
    "global_death = clean_covid19.groupby(['Country'])['Total Deaths'].max().sum()\n",
    "print(f'For COVID-19, Total cases is{global_total} and Total Deaths is{global_death}; so the death rate is %{round(global_death/global_total*100,2)}')\n",
    "global_data = [global_total, global_death]\n",
    "xaxis = np.arange(len(global_data))\n",
    "plt.bar(xaxis, global_data, color='b', alpha=1, align=\"center\", tick_label=(\"Total Cases\", \"Total Deaths\"))\n",
    "plt.title(\"COVID-19 GLOBAL CASES AND DEATHS\")\n",
    "plt.ylabel(\"# of cases\")\n",
    "plt.savefig('output/covid19_fig2')\n",
    "plt.show()"
   ]
  },
  {
   "cell_type": "code",
   "execution_count": 13,
   "metadata": {},
   "outputs": [
    {
     "name": "stdout",
     "output_type": "stream",
     "text": [
      "REGRESSION VALUE= 1.0 *x**3 + 340.81*x**2 + -14044.3*x +73709.58\n"
     ]
    },
    {
     "data": {
      "image/png": "[encoded data removed]",
      "text/plain": [
       "<Figure size 432x288 with 1 Axes>"
      ]
     },
     "metadata": {
      "needs_background": "light"
     },
     "output_type": "display_data"
    },
    {
     "name": "stdout",
     "output_type": "stream",
     "text": [
      "The predicted number of cases after 365 days from the start of the year based on our regression will be 89035877\n"
     ]
    },
    {
     "data": {
      "text/plain": [
       "<Figure size 432x288 with 0 Axes>"
      ]
     },
     "metadata": {},
     "output_type": "display_data"
    }
   ],
   "source": [
    "##plotting the global trend for Total cases and the nonlinear regression\n",
    "\n",
    "#Performing regression\n",
    "x=np.arange(0,days)\n",
    "y=grouped_data_df[\"Total Cases\"]\n",
    "# create a function to fit with your data. a, b, c and d are the coefficients\n",
    "# that curve_fit will calculate for you. \n",
    "# In this part you need to guess and/or use mathematical knowledge to find\n",
    "# a function that resembles your data\n",
    "\n",
    "def func(x, a, b, c, d):\n",
    "    return a*x**3 + b*x**2 +c*x + d\n",
    "\n",
    "# make the curve_fit\n",
    "popt, pcov = curve_fit(func, x, y)\n",
    "\n",
    "# The result is:\n",
    "a=popt[0]\n",
    "b=popt[1]\n",
    "c=popt[2]\n",
    "d=popt[3] \n",
    "\n",
    "# Print the coefficients and plot the funcion.\n",
    "line_eq=print(f'REGRESSION VALUE= {round(a,2)} *x**3 + {round(b,2)}*x**2 + {round(c,2)}*x +{ round(d,2)}')\n",
    "\n",
    "#plt data and fitted graph together\n",
    "\n",
    "x=np.arange(0,days)\n",
    "plt.plot(grouped_data_df[\"Date\"],grouped_data_df[\"Total Cases\"])\n",
    "regress_value = popt[0]*x**3 + popt[1]*x**2 + popt[2]*x + popt[3]\n",
    "plt.plot(grouped_data_df[\"Date\"], popt[0]*x**3 + popt[1]*x**2 + popt[2]*x + popt[3], label=\"Regressed Curve\",color='r',marker='_') \n",
    "plt.annotate(line_eq,(50,10000000))\n",
    "plt.legend(loc='upper left')\n",
    "plt.title('COVID19 GLOBAL TREND FOR TOTAL CASES WITH NON-LINEAR REGRESSION')\n",
    "plt.xlabel('Date')\n",
    "plt.ylabel('Number of Cases')\n",
    "plt.show()\n",
    "\n",
    "#save the figure in the output folder\n",
    "plt.savefig('output/covid19_fig2')\n",
    "\n",
    "#make the predictions for d days from the start of 2020\n",
    "d=365\n",
    "predicted_value= int(popt[0]*d**3 + popt[1]*d**2 + popt[2]*d + popt[3])\n",
    "print(f'The predicted number of cases after {d} days from the start of the year based on our regression will be {predicted_value}')\n",
    "plt.savefig('output/covid19_fig3')"
   ]
  },
  {
   "cell_type": "code",
   "execution_count": 14,
   "metadata": {},
   "outputs": [
    {
     "data": {
      "image/png": "[encoded data removed]",
      "text/plain": [
       "<Figure size 432x288 with 1 Axes>"
      ]
     },
     "metadata": {
      "needs_background": "light"
     },
     "output_type": "display_data"
    }
   ],
   "source": [
    "#plotting the global trend for Total Deaths and the linear regression\n",
    "test = grouped_data1.reset_index().reset_index()\n",
    "\n",
    "test[\"index\"] = test[\"index\"] + 1\n",
    "plt.plot(test[\"index\"], test[\"Total Deaths\"])\n",
    "(slope, intercept, rvalue, pvalue, stderr) = linregress(test[\"index\"], test[\"Total Deaths\"])\n",
    "regress_values = test[\"index\"] * slope + intercept\n",
    "line_eq = \"y = \" + str(round(slope,2)) + \"x + \" + str(round(intercept,2))\n",
    "plt.plot(test[\"index\"], regress_values,\"r-\")\n",
    "plt.annotate(line_eq,(75,10),fontsize=15,color=\"red\")\n",
    "plt.title(\"COVID19 GLOBAL TREND IN TOTAL DEATHS WITH LINEAR REGRESSION\")\n",
    "plt.xlabel(\"# OF DAYS SINCE FIRST CASE\")\n",
    "plt.ylabel(\"# OF CASES\")\n",
    "plt.savefig('output/covid19_fig4')"
   ]
  },
  {
   "cell_type": "code",
   "execution_count": 15,
   "metadata": {},
   "outputs": [
    {
     "name": "stdout",
     "output_type": "stream",
     "text": [
      "REGRESSION VALUE= 16.33 *x**2 + 948.51*x + -41370.86\n",
      "The predicted number of deaths after 365 days from the start of the year based on our regression will be 2480546\n"
     ]
    },
    {
     "data": {
      "image/png": "[encoded data removed]",
      "text/plain": [
       "<Figure size 432x288 with 1 Axes>"
      ]
     },
     "metadata": {
      "needs_background": "light"
     },
     "output_type": "display_data"
    }
   ],
   "source": [
    "\n",
    "#plotting the global trend for Total Deaths\n",
    "\n",
    "# plt.plot(grouped_data_df[\"Date\"],grouped_data_df[\"Total Deaths\"])\n",
    "\n",
    "plt.savefig('output/covid19_fig1')\n",
    "\n",
    "\n",
    "\n",
    "# Performing regression\n",
    "x=np.arange(0,days)\n",
    "y=grouped_data_df[\"Total Deaths\"]\n",
    "# create a function to fit with your data. a, b, c are the coefficients\n",
    "# that curve_fit will calculate for you. \n",
    "# In this part you need to guess and/or use mathematical knowledge to find\n",
    "# a function that resembles your data\n",
    "\n",
    "def func(x, a, b, c):\n",
    "    return a*x**2 + b*x +c\n",
    "\n",
    "# make the curve_fit\n",
    "popt, pcov = curve_fit(func, x, y)\n",
    "\n",
    "# The result is:\n",
    "a=popt[0]\n",
    "b=popt[1]\n",
    "c=popt[2]\n",
    "\n",
    "# # Print the coefficients and plot the funcion.\n",
    "\n",
    "line_eq=print(f'REGRESSION VALUE= {round(a,2)} *x**2 + {round(b,2)}*x + {round(c,2)}')\n",
    "line_eq\n",
    "\n",
    "# # Print the coefficients and plot the funcion.\n",
    "\n",
    "plt.plot(grouped_data_df[\"Date\"],grouped_data_df[\"Total Deaths\"])\n",
    "regress_value = popt[0]*x**2+ popt[1]*x**1 + popt[2]\n",
    "plt.plot(grouped_data_df[\"Date\"], popt[0]*x**2 + popt[1]*x**1 + popt[2], label=\"Fitted Curve\",color='r',marker='_') \n",
    "plt.annotate(line_eq,(100,0),c='y')\n",
    "plt.legend(loc='upper left')\n",
    "plt.title('COVID19 GLOBAL TREND FOR TOTAL DEATHS WITH NON-LINEAR REGRESSION')\n",
    "plt.xlabel('Date')\n",
    "plt.ylabel('Number of Deaths')\n",
    "plt.savefig('output/covid19_fig2')\n",
    "d=365\n",
    "predicted_value= round(int(popt[0]*d**2 + popt[1]*d**1 + popt[2]),0)\n",
    "\n",
    "print(f'The predicted number of deaths after {d} days from the start of the year based on our regression will be {predicted_value}')\n",
    "plt.savefig('output/covid19_fig5')"
   ]
  },
  {
   "cell_type": "code",
   "execution_count": 16,
   "metadata": {},
   "outputs": [
    {
     "data": {
      "image/png": "[encoded data removed]",
      "text/plain": [
       "<Figure size 1440x720 with 1 Axes>"
      ]
     },
     "metadata": {
      "needs_background": "light"
     },
     "output_type": "display_data"
    }
   ],
   "source": [
    "#plotting the global trend for Total cases, Recovered and Deaths\n",
    "grouped_data_df.plot(kind='line',figsize=(20,10))\n",
    "plt.grid()\n",
    "plt.xlim(0,185)\n",
    "plt.ylim(0,18000000)\n",
    "plt.title('COVID19 Global trend for Total Cases, Recovered and Deaths' )\n",
    "plt.ylabel('10,000,000 individulas')\n",
    "plt.savefig('output/covid19_fig6')\n"
   ]
  },
  {
   "cell_type": "code",
   "execution_count": 17,
   "metadata": {},
   "outputs": [],
   "source": [
    "#groupby countries and  calculate the latest stats\n",
    "total_cases_per_country=covid_new_df1.groupby('Country')['Total Cases'].max()\n",
    "total_recovered_per_country=covid_new_df1.groupby('Country')['Total Recovered'].max()\n",
    "total_deaths_per_country=covid_new_df1.groupby('Country')['Total Deaths'].max()\n",
    "a=total_cases_per_country.reset_index().iloc[:,1]\n",
    "b=total_recovered_per_country.reset_index().iloc[:,1]\n",
    "c=total_deaths_per_country.reset_index().iloc[:,1]"
   ]
  },
  {
   "cell_type": "code",
   "execution_count": 18,
   "metadata": {},
   "outputs": [
    {
     "data": {
      "image/png": "[encoded data removed]",
      "text/plain": [
       "<Figure size 432x288 with 1 Axes>"
      ]
     },
     "metadata": {
      "needs_background": "light"
     },
     "output_type": "display_data"
    },
    {
     "data": {
      "text/plain": [
       "(0.9337627997925686, 4.8846972165772175e-84)"
      ]
     },
     "execution_count": 18,
     "metadata": {},
     "output_type": "execute_result"
    }
   ],
   "source": [
    "#scatter plot of the total cases vs total deaths for all the countries\n",
    "plt.scatter(a,c)\n",
    "plt.title('Total Cases versus Total Deaths')\n",
    "plt.savefig('output/covid19_fig8')\n",
    "plt.xlim(0,3000000)\n",
    "plt.show()\n",
    "#calculating the coefficient\n",
    "coefficient=pearsonr(a,c)\n",
    "coefficient"
   ]
  },
  {
   "cell_type": "code",
   "execution_count": 19,
   "metadata": {},
   "outputs": [
    {
     "data": {
      "text/plain": [
       "Country\n",
       "United States of America     3970906\n",
       "Brazil                       2227514\n",
       "India                        1238798\n",
       "Russian Federation            787890\n",
       "South Africa                  394948\n",
       "Peru                          366550\n",
       "Mexico                        362274\n",
       "Chile                         334683\n",
       "United Kingdom                296377\n",
       "Iran, Islamic Republic of     281413\n",
       "Name: Total Cases, dtype: int64"
      ]
     },
     "execution_count": 19,
     "metadata": {},
     "output_type": "execute_result"
    }
   ],
   "source": [
    "#top10_cases_per_country: governmental protection plans\n",
    "top10_latest_cases=total_cases_per_country.sort_values(ascending=False).iloc[0:10]\n",
    "top10_latest_cases"
   ]
  },
  {
   "cell_type": "code",
   "execution_count": 20,
   "metadata": {},
   "outputs": [
    {
     "data": {
      "image/png": "[encoded data removed]",
      "text/plain": [
       "<Figure size 432x288 with 1 Axes>"
      ]
     },
     "metadata": {
      "needs_background": "light"
     },
     "output_type": "display_data"
    }
   ],
   "source": [
    "#plotting a bar chart for the top10 cases\n",
    "top10_latest_cases.plot(kind='bar')\n",
    "plt.title('COVID19 TOP10 COUNTRIES IN TOTAL CASES')\n",
    "plt.savefig('output/covid19_fig9')\n",
    "plt.show()"
   ]
  },
  {
   "cell_type": "code",
   "execution_count": 21,
   "metadata": {},
   "outputs": [],
   "source": [
    "#top10_recovered_per_country: country's health care system efficiency\n",
    "top10_latest_recovered=total_recovered_per_country.sort_values(ascending=False).iloc[0:10]\n"
   ]
  },
  {
   "cell_type": "code",
   "execution_count": 22,
   "metadata": {},
   "outputs": [
    {
     "data": {
      "image/png": "[encoded data removed]",
      "text/plain": [
       "<Figure size 432x288 with 1 Axes>"
      ]
     },
     "metadata": {
      "needs_background": "light"
     },
     "output_type": "display_data"
    }
   ],
   "source": [
    "#top10_deaths_per_country\n",
    "top10_latest_deaths=total_deaths_per_country.sort_values(ascending=False).iloc[0:10]\n",
    "top10_latest_deaths.plot(kind='bar')\n",
    "#plotting a bar chart for top10 countries by total death \n",
    "plt.title('COVID19 TOP10 COUNTRIES IN TOTAL DEATHS')\n",
    "plt.savefig('output/covid19_fig10')\n",
    "plt.show()"
   ]
  },
  {
   "cell_type": "code",
   "execution_count": 23,
   "metadata": {
    "scrolled": true
   },
   "outputs": [
    {
     "data": {
      "image/png": "[encoded data removed]",
      "text/plain": [
       "<Figure size 1440x720 with 1 Axes>"
      ]
     },
     "metadata": {
      "needs_background": "light"
     },
     "output_type": "display_data"
    },
    {
     "name": "stdout",
     "output_type": "stream",
     "text": [
      "The Death Rate in United States of America is %3.61\n",
      "The Death Rate in Brazil is %3.72\n",
      "The Death Rate in India is %3.67\n",
      "The Death Rate in Russian Federation is %5.23\n",
      "The Death Rate in South Africa is %8.88\n",
      "The Death Rate in Peru is %8.2\n",
      "The Death Rate in Mexico is %8.24\n",
      "The Death Rate in Chile is %8.59\n",
      "The Death Rate in United Kingdom is %5.01\n",
      "The Death Rate in Iran, Islamic Republic of is %4.89\n"
     ]
    }
   ],
   "source": [
    "# stacked bar graph of top most affected countries\n",
    "f, ax = plt.subplots(figsize=(20,10))\n",
    "x=top10_latest_cases.reset_index()[\"Country\"]\n",
    "y=top10_latest_cases.reset_index().iloc[:,1]\n",
    "z=top10_latest_recovered.reset_index().iloc[:,1]\n",
    "q=top10_latest_deaths.reset_index().iloc[:,1]\n",
    "plt.bar(x,y,label='Cases')\n",
    "plt.bar(x,z,label = 'Recovered')\n",
    "plt.bar(x,q,label = 'Deaths')\n",
    "plt.legend()\n",
    "plt.title('Statistics on top10 affected countries by COVID-19')\n",
    "plt.ylabel('number of individuals affected')\n",
    "plt.savefig('output/covid19_fig11')\n",
    "plt.show()\n",
    "#calculating the death percentage per country\n",
    "for i in np.arange(0,10):\n",
    "    print(f'The Death Rate in {x[i]} is %{round(q[i]/y[i]*100,2)}')\n"
   ]
  },
  {
   "cell_type": "code",
   "execution_count": 24,
   "metadata": {},
   "outputs": [
    {
     "data": {
      "image/png": "[encoded data removed]",
      "text/plain": [
       "<Figure size 432x288 with 1 Axes>"
      ]
     },
     "metadata": {
      "needs_background": "light"
     },
     "output_type": "display_data"
    },
    {
     "data": {
      "text/plain": [
       "(0.9791011180632817, 8.138358658595495e-07)"
      ]
     },
     "execution_count": 24,
     "metadata": {},
     "output_type": "execute_result"
    }
   ],
   "source": [
    "#scatter plot cases vs recovered for top10 countries with the linear regression\n",
    "\n",
    "plt.scatter(y,z)\n",
    "# linear regression on cases vs recovered\n",
    "(slope, intercept, rvalue, pvalue, stderr) = linregress(y, z)\n",
    "recovered_slope=slope\n",
    "regress_value=slope*y+intercept\n",
    "recovered_line_eq = \"y = \" + str(round(slope,2)) + \"x + \" + str(round(intercept,2))\n",
    "plt.annotate(recovered_line_eq,(250000,800000))\n",
    "plt.plot(y, regress_value, 'r', label='fitted line')\n",
    "plt.title('Total Cases versus Total Recovered per top10 affected countries')\n",
    "plt.savefig('output/covid19_fig12')\n",
    "plt.show()\n",
    "#calculating the coefficient\n",
    "coefficient=pearsonr(y,z)\n",
    "coefficient"
   ]
  },
  {
   "cell_type": "code",
   "execution_count": 25,
   "metadata": {},
   "outputs": [
    {
     "data": {
      "image/png": "[encoded data removed]",
      "text/plain": [
       "<Figure size 432x288 with 1 Axes>"
      ]
     },
     "metadata": {
      "needs_background": "light"
     },
     "output_type": "display_data"
    },
    {
     "data": {
      "text/plain": [
       "(0.9866695946549351, 1.3595252129812832e-07)"
      ]
     },
     "execution_count": 25,
     "metadata": {},
     "output_type": "execute_result"
    }
   ],
   "source": [
    "#scatter plot cases vs recovered_per country\n",
    "\n",
    "plt.scatter(y,q)\n",
    "# linear regression on cases vs deaths\n",
    "(slope, intercept, rvalue, pvalue, stderr) = linregress(y, q)\n",
    "death_slope=slope\n",
    "regress_value=slope*y+intercept\n",
    "line_eq = \"y = \" + str(round(slope,2)) + \"x + \" + str(round(intercept,2))\n",
    "plt.annotate(line_eq,(500000,50000))\n",
    "plt.plot(y, regress_value, 'r', label='fitted line')\n",
    "plt.title('Total Cases versus Total Deaths per top10 affected countries')\n",
    "plt.savefig('output/covid19_fig13')\n",
    "plt.show()\n",
    "#calculating the coefficient\n",
    "coefficient=pearsonr(y,q)\n",
    "coefficient\n"
   ]
  },
  {
   "cell_type": "markdown",
   "metadata": {},
   "source": [
    "# Gmaps"
   ]
  },
  {
   "cell_type": "code",
   "execution_count": 26,
   "metadata": {},
   "outputs": [
    {
     "data": {
      "text/html": [
       "<div>\n",
       "<style scoped>\n",
       "    .dataframe tbody tr th:only-of-type {\n",
       "        vertical-align: middle;\n",
       "    }\n",
       "\n",
       "    .dataframe tbody tr th {\n",
       "        vertical-align: top;\n",
       "    }\n",
       "\n",
       "    .dataframe thead th {\n",
       "        text-align: right;\n",
       "    }\n",
       "</style>\n",
       "<table border=\"1\" class=\"dataframe\">\n",
       "  <thead>\n",
       "    <tr style=\"text-align: right;\">\n",
       "      <th></th>\n",
       "      <th>Total Cases</th>\n",
       "      <th>Total Deaths</th>\n",
       "      <th>Total Recovered</th>\n",
       "    </tr>\n",
       "    <tr>\n",
       "      <th>Country</th>\n",
       "      <th></th>\n",
       "      <th></th>\n",
       "      <th></th>\n",
       "    </tr>\n",
       "  </thead>\n",
       "  <tbody>\n",
       "    <tr>\n",
       "      <th>Afghanistan</th>\n",
       "      <td>1756025</td>\n",
       "      <td>42886</td>\n",
       "      <td>673917</td>\n",
       "    </tr>\n",
       "    <tr>\n",
       "      <th>Albania</th>\n",
       "      <td>173386</td>\n",
       "      <td>5041</td>\n",
       "      <td>105682</td>\n",
       "    </tr>\n",
       "    <tr>\n",
       "      <th>Algeria</th>\n",
       "      <td>1046018</td>\n",
       "      <td>72248</td>\n",
       "      <td>666158</td>\n",
       "    </tr>\n",
       "    <tr>\n",
       "      <th>Andorra</th>\n",
       "      <td>89917</td>\n",
       "      <td>5163</td>\n",
       "      <td>65059</td>\n",
       "    </tr>\n",
       "    <tr>\n",
       "      <th>Angola</th>\n",
       "      <td>18133</td>\n",
       "      <td>890</td>\n",
       "      <td>5370</td>\n",
       "    </tr>\n",
       "    <tr>\n",
       "      <th>...</th>\n",
       "      <td>...</td>\n",
       "      <td>...</td>\n",
       "      <td>...</td>\n",
       "    </tr>\n",
       "    <tr>\n",
       "      <th>Viet Nam</th>\n",
       "      <td>38580</td>\n",
       "      <td>0</td>\n",
       "      <td>31013</td>\n",
       "    </tr>\n",
       "    <tr>\n",
       "      <th>Western Sahara</th>\n",
       "      <td>851</td>\n",
       "      <td>58</td>\n",
       "      <td>608</td>\n",
       "    </tr>\n",
       "    <tr>\n",
       "      <th>Yemen</th>\n",
       "      <td>58806</td>\n",
       "      <td>15341</td>\n",
       "      <td>19828</td>\n",
       "    </tr>\n",
       "    <tr>\n",
       "      <th>Zambia</th>\n",
       "      <td>108415</td>\n",
       "      <td>1955</td>\n",
       "      <td>73139</td>\n",
       "    </tr>\n",
       "    <tr>\n",
       "      <th>Zimbabwe</th>\n",
       "      <td>38724</td>\n",
       "      <td>717</td>\n",
       "      <td>9605</td>\n",
       "    </tr>\n",
       "  </tbody>\n",
       "</table>\n",
       "<p>186 rows × 3 columns</p>\n",
       "</div>"
      ],
      "text/plain": [
       "                Total Cases  Total Deaths  Total Recovered\n",
       "Country                                                   \n",
       "Afghanistan         1756025         42886           673917\n",
       "Albania              173386          5041           105682\n",
       "Algeria             1046018         72248           666158\n",
       "Andorra               89917          5163            65059\n",
       "Angola                18133           890             5370\n",
       "...                     ...           ...              ...\n",
       "Viet Nam              38580             0            31013\n",
       "Western Sahara          851            58              608\n",
       "Yemen                 58806         15341            19828\n",
       "Zambia               108415          1955            73139\n",
       "Zimbabwe              38724           717             9605\n",
       "\n",
       "[186 rows x 3 columns]"
      ]
     },
     "execution_count": 26,
     "metadata": {},
     "output_type": "execute_result"
    }
   ],
   "source": [
    "grouped_df = clean_covid19.groupby(\"Country\").sum()\n",
    "grouped_df\n"
   ]
  },
  {
   "cell_type": "code",
   "execution_count": 27,
   "metadata": {},
   "outputs": [
    {
     "data": {
      "text/html": [
       "<div>\n",
       "<style scoped>\n",
       "    .dataframe tbody tr th:only-of-type {\n",
       "        vertical-align: middle;\n",
       "    }\n",
       "\n",
       "    .dataframe tbody tr th {\n",
       "        vertical-align: top;\n",
       "    }\n",
       "\n",
       "    .dataframe thead th {\n",
       "        text-align: right;\n",
       "    }\n",
       "</style>\n",
       "<table border=\"1\" class=\"dataframe\">\n",
       "  <thead>\n",
       "    <tr style=\"text-align: right;\">\n",
       "      <th></th>\n",
       "      <th>Country</th>\n",
       "      <th>Total Cases</th>\n",
       "      <th>Total Deaths</th>\n",
       "      <th>Total Recovered</th>\n",
       "    </tr>\n",
       "  </thead>\n",
       "  <tbody>\n",
       "    <tr>\n",
       "      <th>0</th>\n",
       "      <td>Afghanistan</td>\n",
       "      <td>1756025</td>\n",
       "      <td>42886</td>\n",
       "      <td>673917</td>\n",
       "    </tr>\n",
       "    <tr>\n",
       "      <th>1</th>\n",
       "      <td>Albania</td>\n",
       "      <td>173386</td>\n",
       "      <td>5041</td>\n",
       "      <td>105682</td>\n",
       "    </tr>\n",
       "    <tr>\n",
       "      <th>2</th>\n",
       "      <td>Algeria</td>\n",
       "      <td>1046018</td>\n",
       "      <td>72248</td>\n",
       "      <td>666158</td>\n",
       "    </tr>\n",
       "    <tr>\n",
       "      <th>3</th>\n",
       "      <td>Andorra</td>\n",
       "      <td>89917</td>\n",
       "      <td>5163</td>\n",
       "      <td>65059</td>\n",
       "    </tr>\n",
       "    <tr>\n",
       "      <th>4</th>\n",
       "      <td>Angola</td>\n",
       "      <td>18133</td>\n",
       "      <td>890</td>\n",
       "      <td>5370</td>\n",
       "    </tr>\n",
       "    <tr>\n",
       "      <th>...</th>\n",
       "      <td>...</td>\n",
       "      <td>...</td>\n",
       "      <td>...</td>\n",
       "      <td>...</td>\n",
       "    </tr>\n",
       "    <tr>\n",
       "      <th>181</th>\n",
       "      <td>Viet Nam</td>\n",
       "      <td>38580</td>\n",
       "      <td>0</td>\n",
       "      <td>31013</td>\n",
       "    </tr>\n",
       "    <tr>\n",
       "      <th>182</th>\n",
       "      <td>Western Sahara</td>\n",
       "      <td>851</td>\n",
       "      <td>58</td>\n",
       "      <td>608</td>\n",
       "    </tr>\n",
       "    <tr>\n",
       "      <th>183</th>\n",
       "      <td>Yemen</td>\n",
       "      <td>58806</td>\n",
       "      <td>15341</td>\n",
       "      <td>19828</td>\n",
       "    </tr>\n",
       "    <tr>\n",
       "      <th>184</th>\n",
       "      <td>Zambia</td>\n",
       "      <td>108415</td>\n",
       "      <td>1955</td>\n",
       "      <td>73139</td>\n",
       "    </tr>\n",
       "    <tr>\n",
       "      <th>185</th>\n",
       "      <td>Zimbabwe</td>\n",
       "      <td>38724</td>\n",
       "      <td>717</td>\n",
       "      <td>9605</td>\n",
       "    </tr>\n",
       "  </tbody>\n",
       "</table>\n",
       "<p>186 rows × 4 columns</p>\n",
       "</div>"
      ],
      "text/plain": [
       "            Country  Total Cases  Total Deaths  Total Recovered\n",
       "0       Afghanistan      1756025         42886           673917\n",
       "1           Albania       173386          5041           105682\n",
       "2           Algeria      1046018         72248           666158\n",
       "3           Andorra        89917          5163            65059\n",
       "4            Angola        18133           890             5370\n",
       "..              ...          ...           ...              ...\n",
       "181        Viet Nam        38580             0            31013\n",
       "182  Western Sahara          851            58              608\n",
       "183           Yemen        58806         15341            19828\n",
       "184          Zambia       108415          1955            73139\n",
       "185        Zimbabwe        38724           717             9605\n",
       "\n",
       "[186 rows x 4 columns]"
      ]
     },
     "execution_count": 27,
     "metadata": {},
     "output_type": "execute_result"
    }
   ],
   "source": [
    "grouped_df.reset_index(inplace=True)\n",
    "grouped_df"
   ]
  },
  {
   "cell_type": "code",
   "execution_count": 28,
   "metadata": {},
   "outputs": [
    {
     "data": {
      "text/html": [
       "<div>\n",
       "<style scoped>\n",
       "    .dataframe tbody tr th:only-of-type {\n",
       "        vertical-align: middle;\n",
       "    }\n",
       "\n",
       "    .dataframe tbody tr th {\n",
       "        vertical-align: top;\n",
       "    }\n",
       "\n",
       "    .dataframe thead th {\n",
       "        text-align: right;\n",
       "    }\n",
       "</style>\n",
       "<table border=\"1\" class=\"dataframe\">\n",
       "  <thead>\n",
       "    <tr style=\"text-align: right;\">\n",
       "      <th></th>\n",
       "      <th>Country</th>\n",
       "      <th>Total Cases</th>\n",
       "      <th>Total Deaths</th>\n",
       "      <th>Total Recovered</th>\n",
       "      <th>Lat</th>\n",
       "      <th>Lng</th>\n",
       "    </tr>\n",
       "  </thead>\n",
       "  <tbody>\n",
       "    <tr>\n",
       "      <th>0</th>\n",
       "      <td>Afghanistan</td>\n",
       "      <td>1756025</td>\n",
       "      <td>42886</td>\n",
       "      <td>673917</td>\n",
       "      <td>33.939110</td>\n",
       "      <td>67.709953</td>\n",
       "    </tr>\n",
       "    <tr>\n",
       "      <th>1</th>\n",
       "      <td>Albania</td>\n",
       "      <td>173386</td>\n",
       "      <td>5041</td>\n",
       "      <td>105682</td>\n",
       "      <td>41.153332</td>\n",
       "      <td>20.168331</td>\n",
       "    </tr>\n",
       "    <tr>\n",
       "      <th>2</th>\n",
       "      <td>Algeria</td>\n",
       "      <td>1046018</td>\n",
       "      <td>72248</td>\n",
       "      <td>666158</td>\n",
       "      <td>28.033886</td>\n",
       "      <td>1.659626</td>\n",
       "    </tr>\n",
       "    <tr>\n",
       "      <th>3</th>\n",
       "      <td>Andorra</td>\n",
       "      <td>89917</td>\n",
       "      <td>5163</td>\n",
       "      <td>65059</td>\n",
       "      <td>42.506285</td>\n",
       "      <td>1.521801</td>\n",
       "    </tr>\n",
       "    <tr>\n",
       "      <th>4</th>\n",
       "      <td>Angola</td>\n",
       "      <td>18133</td>\n",
       "      <td>890</td>\n",
       "      <td>5370</td>\n",
       "      <td>-11.202692</td>\n",
       "      <td>17.873887</td>\n",
       "    </tr>\n",
       "    <tr>\n",
       "      <th>5</th>\n",
       "      <td>Antigua and Barbuda</td>\n",
       "      <td>4079</td>\n",
       "      <td>311</td>\n",
       "      <td>2297</td>\n",
       "      <td>17.060816</td>\n",
       "      <td>-61.796428</td>\n",
       "    </tr>\n",
       "    <tr>\n",
       "      <th>6</th>\n",
       "      <td>Argentina</td>\n",
       "      <td>3660835</td>\n",
       "      <td>83349</td>\n",
       "      <td>1340647</td>\n",
       "      <td>-38.416097</td>\n",
       "      <td>-63.616672</td>\n",
       "    </tr>\n",
       "    <tr>\n",
       "      <th>7</th>\n",
       "      <td>Armenia</td>\n",
       "      <td>1402695</td>\n",
       "      <td>23593</td>\n",
       "      <td>727118</td>\n",
       "      <td>40.069099</td>\n",
       "      <td>45.038189</td>\n",
       "    </tr>\n",
       "    <tr>\n",
       "      <th>8</th>\n",
       "      <td>Australia</td>\n",
       "      <td>888061</td>\n",
       "      <td>10671</td>\n",
       "      <td>666711</td>\n",
       "      <td>-25.274398</td>\n",
       "      <td>133.775136</td>\n",
       "    </tr>\n",
       "    <tr>\n",
       "      <th>9</th>\n",
       "      <td>Austria</td>\n",
       "      <td>1933305</td>\n",
       "      <td>67831</td>\n",
       "      <td>1547816</td>\n",
       "      <td>47.516231</td>\n",
       "      <td>14.550072</td>\n",
       "    </tr>\n",
       "    <tr>\n",
       "      <th>10</th>\n",
       "      <td>Azerbaijan</td>\n",
       "      <td>986296</td>\n",
       "      <td>12243</td>\n",
       "      <td>592873</td>\n",
       "      <td>40.143105</td>\n",
       "      <td>47.576927</td>\n",
       "    </tr>\n",
       "    <tr>\n",
       "      <th>11</th>\n",
       "      <td>Bahamas</td>\n",
       "      <td>10460</td>\n",
       "      <td>1148</td>\n",
       "      <td>5592</td>\n",
       "      <td>25.034280</td>\n",
       "      <td>-77.396280</td>\n",
       "    </tr>\n",
       "    <tr>\n",
       "      <th>12</th>\n",
       "      <td>Bahrain</td>\n",
       "      <td>1561392</td>\n",
       "      <td>4427</td>\n",
       "      <td>1158545</td>\n",
       "      <td>26.066700</td>\n",
       "      <td>50.557700</td>\n",
       "    </tr>\n",
       "    <tr>\n",
       "      <th>13</th>\n",
       "      <td>Bangladesh</td>\n",
       "      <td>7649105</td>\n",
       "      <td>101229</td>\n",
       "      <td>3102863</td>\n",
       "      <td>23.684994</td>\n",
       "      <td>90.356331</td>\n",
       "    </tr>\n",
       "    <tr>\n",
       "      <th>14</th>\n",
       "      <td>Barbados</td>\n",
       "      <td>10110</td>\n",
       "      <td>703</td>\n",
       "      <td>6974</td>\n",
       "      <td>13.193887</td>\n",
       "      <td>-59.543198</td>\n",
       "    </tr>\n",
       "    <tr>\n",
       "      <th>15</th>\n",
       "      <td>Belarus</td>\n",
       "      <td>4091840</td>\n",
       "      <td>25746</td>\n",
       "      <td>2471722</td>\n",
       "      <td>53.709807</td>\n",
       "      <td>27.953389</td>\n",
       "    </tr>\n",
       "    <tr>\n",
       "      <th>16</th>\n",
       "      <td>Belgium</td>\n",
       "      <td>5952889</td>\n",
       "      <td>914586</td>\n",
       "      <td>1540414</td>\n",
       "      <td>50.503887</td>\n",
       "      <td>4.469936</td>\n",
       "    </tr>\n",
       "    <tr>\n",
       "      <th>17</th>\n",
       "      <td>Belize</td>\n",
       "      <td>2397</td>\n",
       "      <td>212</td>\n",
       "      <td>1489</td>\n",
       "      <td>17.189877</td>\n",
       "      <td>-88.497650</td>\n",
       "    </tr>\n",
       "    <tr>\n",
       "      <th>18</th>\n",
       "      <td>Benin</td>\n",
       "      <td>55784</td>\n",
       "      <td>923</td>\n",
       "      <td>21085</td>\n",
       "      <td>9.307690</td>\n",
       "      <td>2.315834</td>\n",
       "    </tr>\n",
       "    <tr>\n",
       "      <th>19</th>\n",
       "      <td>Bhutan</td>\n",
       "      <td>4501</td>\n",
       "      <td>0</td>\n",
       "      <td>2414</td>\n",
       "      <td>27.514162</td>\n",
       "      <td>90.433601</td>\n",
       "    </tr>\n",
       "  </tbody>\n",
       "</table>\n",
       "</div>"
      ],
      "text/plain": [
       "                Country  Total Cases  Total Deaths  Total Recovered  \\\n",
       "0           Afghanistan      1756025         42886           673917   \n",
       "1               Albania       173386          5041           105682   \n",
       "2               Algeria      1046018         72248           666158   \n",
       "3               Andorra        89917          5163            65059   \n",
       "4                Angola        18133           890             5370   \n",
       "5   Antigua and Barbuda         4079           311             2297   \n",
       "6             Argentina      3660835         83349          1340647   \n",
       "7               Armenia      1402695         23593           727118   \n",
       "8             Australia       888061         10671           666711   \n",
       "9               Austria      1933305         67831          1547816   \n",
       "10           Azerbaijan       986296         12243           592873   \n",
       "11              Bahamas        10460          1148             5592   \n",
       "12              Bahrain      1561392          4427          1158545   \n",
       "13           Bangladesh      7649105        101229          3102863   \n",
       "14             Barbados        10110           703             6974   \n",
       "15              Belarus      4091840         25746          2471722   \n",
       "16              Belgium      5952889        914586          1540414   \n",
       "17               Belize         2397           212             1489   \n",
       "18                Benin        55784           923            21085   \n",
       "19               Bhutan         4501             0             2414   \n",
       "\n",
       "          Lat         Lng  \n",
       "0   33.939110   67.709953  \n",
       "1   41.153332   20.168331  \n",
       "2   28.033886    1.659626  \n",
       "3   42.506285    1.521801  \n",
       "4  -11.202692   17.873887  \n",
       "5   17.060816  -61.796428  \n",
       "6  -38.416097  -63.616672  \n",
       "7   40.069099   45.038189  \n",
       "8  -25.274398  133.775136  \n",
       "9   47.516231   14.550072  \n",
       "10  40.143105   47.576927  \n",
       "11  25.034280  -77.396280  \n",
       "12  26.066700   50.557700  \n",
       "13  23.684994   90.356331  \n",
       "14  13.193887  -59.543198  \n",
       "15  53.709807   27.953389  \n",
       "16  50.503887    4.469936  \n",
       "17  17.189877  -88.497650  \n",
       "18   9.307690    2.315834  \n",
       "19  27.514162   90.433601  "
      ]
     },
     "execution_count": 28,
     "metadata": {},
     "output_type": "execute_result"
    }
   ],
   "source": [
    "params = {\"key\": gkey}\n",
    "\n",
    "\n",
    "for i,row in grouped_df.iterrows():\n",
    "    base_url = \"https://maps.googleapis.com/maps/api/geocode/json\"\n",
    "    \n",
    "    country = row['Country']\n",
    "    params['address'] = f\"{country}\"\n",
    "    try:\n",
    "        response = requests.get(base_url, params=params).json()    \n",
    "        grouped_df.loc[i, 'Lat'] = response[\"results\"][0][\"geometry\"][\"location\"][\"lat\"]\n",
    "        grouped_df.loc[i, 'Lng'] = response[\"results\"][0][\"geometry\"][\"location\"][\"lng\"]\n",
    "\n",
    "    except:\n",
    "        print(f\"{country} not found. skipping....\")\n",
    "        pass\n",
    "\n",
    "grouped_df.head(20)"
   ]
  },
  {
   "cell_type": "code",
   "execution_count": 29,
   "metadata": {},
   "outputs": [
    {
     "data": {
      "application/vnd.jupyter.widget-view+json": {
       "model_id": "e87bff2e7c1544e0a408d0e8ddef01da",
       "version_major": 2,
       "version_minor": 0
      },
      "text/plain": [
       "Figure(layout=FigureLayout(height='420px'))"
      ]
     },
     "metadata": {},
     "output_type": "display_data"
    }
   ],
   "source": [
    "locations = grouped_df[[\"Lat\", \"Lng\"]]\n",
    "\n",
    "rating = grouped_df[\"Total Cases\"]\n",
    "# Plot Heatmap\n",
    "fig = gmaps.figure()\n",
    "\n",
    "# Create heat layer\n",
    "heat_layer = gmaps.heatmap_layer(locations,weights=rating, \n",
    "                                 dissipating=False, max_intensity=100,\n",
    "                                 point_radius=1)\n",
    "\n",
    "\n",
    "# Add layer\n",
    "fig.add_layer(heat_layer)\n",
    "\n",
    "# Display figure\n",
    "fig"
   ]
  },
  {
   "cell_type": "markdown",
   "metadata": {},
   "source": [
    "# Statistical Analysis\n",
    "\n",
    "- We tried Mannwhitneyu method to test the hypothesis.\n",
    "- We also tried to transform the data into normal distribution."
   ]
  },
  {
   "cell_type": "code",
   "execution_count": 30,
   "metadata": {
    "scrolled": true
   },
   "outputs": [
    {
     "name": "stdout",
     "output_type": "stream",
     "text": [
      "6575.560810810811\n",
      "4020293.2419354836\n"
     ]
    }
   ],
   "source": [
    "h1n1_df = pd.read_csv('Resources/H1N1_dataset.csv')\n",
    "grouped_h1n1 = h1n1_df.groupby(\"Country\").sum()\n",
    "mean_h1n1 = grouped_h1n1['Cumulative no. of cases'].mean()\n",
    "print(mean_h1n1)\n",
    "\n",
    "covid_grouped_df = clean_covid19.groupby(\"Country\").sum()\n",
    "mean_covid = covid_grouped_df['Total Cases'].mean()\n",
    "print(mean_covid)"
   ]
  },
  {
   "cell_type": "code",
   "execution_count": 31,
   "metadata": {},
   "outputs": [
    {
     "data": {
      "text/plain": [
       "(array([143.,   2.,   1.,   0.,   1.,   0.,   0.,   0.,   0.,   1.]),\n",
       " array([1.000000e+00, 4.185410e+04, 8.370720e+04, 1.255603e+05,\n",
       "        1.674134e+05, 2.092665e+05, 2.511196e+05, 2.929727e+05,\n",
       "        3.348258e+05, 3.766789e+05, 4.185320e+05]),\n",
       " <a list of 10 Patch objects>)"
      ]
     },
     "execution_count": 31,
     "metadata": {},
     "output_type": "execute_result"
    },
    {
     "data": {
      "image/png": "[encoded data removed]",
      "text/plain": [
       "<Figure size 432x288 with 1 Axes>"
      ]
     },
     "metadata": {
      "needs_background": "light"
     },
     "output_type": "display_data"
    }
   ],
   "source": [
    "population1 = grouped_h1n1['Cumulative no. of cases']\n",
    "population2 = covid_grouped_df['Total Cases']\n",
    "plt.hist(population1)"
   ]
  },
  {
   "cell_type": "code",
   "execution_count": 32,
   "metadata": {},
   "outputs": [
    {
     "data": {
      "text/plain": [
       "(array([179.,   4.,   1.,   1.,   0.,   0.,   0.,   0.,   0.,   1.]),\n",
       " array([8.51000000e+02, 2.03499893e+07, 4.06991276e+07, 6.10482659e+07,\n",
       "        8.13974042e+07, 1.01746542e+08, 1.22095681e+08, 1.42444819e+08,\n",
       "        1.62793957e+08, 1.83143096e+08, 2.03492234e+08]),\n",
       " <a list of 10 Patch objects>)"
      ]
     },
     "execution_count": 32,
     "metadata": {},
     "output_type": "execute_result"
    },
    {
     "data": {
      "image/png": "[encoded data removed]",
      "text/plain": [
       "<Figure size 432x288 with 1 Axes>"
      ]
     },
     "metadata": {
      "needs_background": "light"
     },
     "output_type": "display_data"
    }
   ],
   "source": [
    "plt.hist(population2)"
   ]
  },
  {
   "cell_type": "code",
   "execution_count": 33,
   "metadata": {},
   "outputs": [
    {
     "data": {
      "text/plain": [
       "MannwhitneyuResult(statistic=702.0, pvalue=1.6425922686397164e-50)"
      ]
     },
     "execution_count": 33,
     "metadata": {},
     "output_type": "execute_result"
    }
   ],
   "source": [
    "test = stats.mannwhitneyu(population1,population2)\n",
    "test"
   ]
  },
  {
   "cell_type": "code",
   "execution_count": 34,
   "metadata": {},
   "outputs": [
    {
     "data": {
      "text/plain": [
       "(array([22., 19., 26., 22., 19., 17., 12.,  5.,  4.,  2.]),\n",
       " array([ 0.        ,  1.29445086,  2.58890173,  3.88335259,  5.17780345,\n",
       "         6.47225431,  7.76670518,  9.06115604, 10.3556069 , 11.65005777,\n",
       "        12.94450863]),\n",
       " <a list of 10 Patch objects>)"
      ]
     },
     "execution_count": 34,
     "metadata": {},
     "output_type": "execute_result"
    },
    {
     "data": {
      "image/png": "[encoded data removed]",
      "text/plain": [
       "<Figure size 432x288 with 1 Axes>"
      ]
     },
     "metadata": {
      "needs_background": "light"
     },
     "output_type": "display_data"
    }
   ],
   "source": [
    "data1 = boxcox(population1,0)\n",
    "plt.hist(data1)"
   ]
  },
  {
   "cell_type": "code",
   "execution_count": 35,
   "metadata": {},
   "outputs": [
    {
     "data": {
      "text/plain": [
       "(array([12.,  8., 15., 37., 38., 24., 29., 12.,  9.,  2.]),\n",
       " array([ 6.74641213,  7.98488476,  9.22335738, 10.46183001, 11.70030264,\n",
       "        12.93877526, 14.17724789, 15.41572052, 16.65419315, 17.89266577,\n",
       "        19.1311384 ]),\n",
       " <a list of 10 Patch objects>)"
      ]
     },
     "execution_count": 35,
     "metadata": {},
     "output_type": "execute_result"
    },
    {
     "data": {
      "image/png": "[encoded data removed]",
      "text/plain": [
       "<Figure size 432x288 with 1 Axes>"
      ]
     },
     "metadata": {
      "needs_background": "light"
     },
     "output_type": "display_data"
    }
   ],
   "source": [
    "data2 = boxcox(population2,0)\n",
    "plt.hist(data2)"
   ]
  },
  {
   "cell_type": "code",
   "execution_count": 36,
   "metadata": {},
   "outputs": [
    {
     "ename": "NameError",
     "evalue": "name 'data' is not defined",
     "output_type": "error",
     "traceback": [
      "\u001b[0;31m---------------------------------------------------------------------------\u001b[0m",
      "\u001b[0;31mNameError\u001b[0m                                 Traceback (most recent call last)",
      "\u001b[0;32m<ipython-input-36-827cc6949a13>\u001b[0m in \u001b[0;36m<module>\u001b[0;34m\u001b[0m\n\u001b[0;32m----> 1\u001b[0;31m \u001b[0mstats\u001b[0m\u001b[0;34m.\u001b[0m\u001b[0mttest_ind\u001b[0m\u001b[0;34m(\u001b[0m\u001b[0mdata\u001b[0m\u001b[0;34m,\u001b[0m \u001b[0mdata2\u001b[0m\u001b[0;34m,\u001b[0m \u001b[0mequal_var\u001b[0m\u001b[0;34m=\u001b[0m\u001b[0;32mFalse\u001b[0m\u001b[0;34m)\u001b[0m\u001b[0;34m\u001b[0m\u001b[0;34m\u001b[0m\u001b[0m\n\u001b[0m",
      "\u001b[0;31mNameError\u001b[0m: name 'data' is not defined"
     ]
    }
   ],
   "source": [
    "stats.ttest_ind(data, data2, equal_var=False)"
   ]
  },
  {
   "cell_type": "code",
   "execution_count": null,
   "metadata": {},
   "outputs": [],
   "source": []
  }
 ],
 "metadata": {
  "kernelspec": {
   "display_name": "Python [conda env:PythonData] *",
   "language": "python",
   "name": "conda-env-PythonData-py"
  },
  "language_info": {
   "codemirror_mode": {
    "name": "ipython",
    "version": 3
   },
   "file_extension": ".py",
   "mimetype": "text/x-python",
   "name": "python",
   "nbconvert_exporter": "python",
   "pygments_lexer": "ipython3",
   "version": "3.6.10"
  }
 },
 "nbformat": 4,
 "nbformat_minor": 4
}
