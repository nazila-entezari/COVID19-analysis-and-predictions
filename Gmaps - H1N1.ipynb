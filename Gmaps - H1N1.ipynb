{
 "cells": [
  {
   "cell_type": "code",
   "execution_count": 1,
   "metadata": {},
   "outputs": [],
   "source": [
    "# Dependencies\n",
    "import pandas as pd\n",
    "import requests\n",
    "import gmaps\n",
    "from pprint import pprint\n",
    "import numpy as np\n",
    "import scipy.stats as stats\n",
    "from matplotlib import pyplot as plt\n",
    "from scipy.stats import boxcox\n",
    "\n",
    "from config import gkey\n",
    "\n",
    "# Configure gmaps\n",
    "gmaps.configure(api_key=gkey)"
   ]
  },
  {
   "cell_type": "code",
   "execution_count": 2,
   "metadata": {
    "scrolled": true
   },
   "outputs": [
    {
     "data": {
      "text/html": [
       "<div>\n",
       "<style scoped>\n",
       "    .dataframe tbody tr th:only-of-type {\n",
       "        vertical-align: middle;\n",
       "    }\n",
       "\n",
       "    .dataframe tbody tr th {\n",
       "        vertical-align: top;\n",
       "    }\n",
       "\n",
       "    .dataframe thead th {\n",
       "        text-align: right;\n",
       "    }\n",
       "</style>\n",
       "<table border=\"1\" class=\"dataframe\">\n",
       "  <thead>\n",
       "    <tr style=\"text-align: right;\">\n",
       "      <th></th>\n",
       "      <th>Cumulative no. of cases</th>\n",
       "      <th>Cumulative no. of deaths</th>\n",
       "    </tr>\n",
       "    <tr>\n",
       "      <th>Country</th>\n",
       "      <th></th>\n",
       "      <th></th>\n",
       "    </tr>\n",
       "  </thead>\n",
       "  <tbody>\n",
       "    <tr>\n",
       "      <th>Algeria</th>\n",
       "      <td>19</td>\n",
       "      <td>0</td>\n",
       "    </tr>\n",
       "    <tr>\n",
       "      <th>Antigua and Barbuda</th>\n",
       "      <td>12</td>\n",
       "      <td>0</td>\n",
       "    </tr>\n",
       "    <tr>\n",
       "      <th>Argentina</th>\n",
       "      <td>14045</td>\n",
       "      <td>175</td>\n",
       "    </tr>\n",
       "    <tr>\n",
       "      <th>Australia</th>\n",
       "      <td>39519</td>\n",
       "      <td>39</td>\n",
       "    </tr>\n",
       "    <tr>\n",
       "      <th>Austria</th>\n",
       "      <td>173</td>\n",
       "      <td>0</td>\n",
       "    </tr>\n",
       "  </tbody>\n",
       "</table>\n",
       "</div>"
      ],
      "text/plain": [
       "                     Cumulative no. of cases  Cumulative no. of deaths\n",
       "Country                                                               \n",
       "Algeria                                   19                         0\n",
       "Antigua and Barbuda                       12                         0\n",
       "Argentina                              14045                       175\n",
       "Australia                              39519                        39\n",
       "Austria                                  173                         0"
      ]
     },
     "execution_count": 2,
     "metadata": {},
     "output_type": "execute_result"
    }
   ],
   "source": [
    "h1n1_df = pd.read_csv('Resources/H1N1_dataset.csv')\n",
    "\n",
    "grouped_df = h1n1_df.groupby(\"Country\").sum()\n",
    "grouped_df.head()\n"
   ]
  },
  {
   "cell_type": "code",
   "execution_count": 3,
   "metadata": {
    "scrolled": true
   },
   "outputs": [
    {
     "data": {
      "text/html": [
       "<div>\n",
       "<style scoped>\n",
       "    .dataframe tbody tr th:only-of-type {\n",
       "        vertical-align: middle;\n",
       "    }\n",
       "\n",
       "    .dataframe tbody tr th {\n",
       "        vertical-align: top;\n",
       "    }\n",
       "\n",
       "    .dataframe thead th {\n",
       "        text-align: right;\n",
       "    }\n",
       "</style>\n",
       "<table border=\"1\" class=\"dataframe\">\n",
       "  <thead>\n",
       "    <tr style=\"text-align: right;\">\n",
       "      <th></th>\n",
       "      <th>Country</th>\n",
       "      <th>Cumulative no. of cases</th>\n",
       "      <th>Cumulative no. of deaths</th>\n",
       "      <th>Lat</th>\n",
       "      <th>Lng</th>\n",
       "    </tr>\n",
       "  </thead>\n",
       "  <tbody>\n",
       "    <tr>\n",
       "      <th>0</th>\n",
       "      <td>Algeria</td>\n",
       "      <td>19</td>\n",
       "      <td>0</td>\n",
       "      <td></td>\n",
       "      <td></td>\n",
       "    </tr>\n",
       "    <tr>\n",
       "      <th>1</th>\n",
       "      <td>Antigua and Barbuda</td>\n",
       "      <td>12</td>\n",
       "      <td>0</td>\n",
       "      <td></td>\n",
       "      <td></td>\n",
       "    </tr>\n",
       "    <tr>\n",
       "      <th>2</th>\n",
       "      <td>Argentina</td>\n",
       "      <td>14045</td>\n",
       "      <td>175</td>\n",
       "      <td></td>\n",
       "      <td></td>\n",
       "    </tr>\n",
       "    <tr>\n",
       "      <th>3</th>\n",
       "      <td>Australia</td>\n",
       "      <td>39519</td>\n",
       "      <td>39</td>\n",
       "      <td></td>\n",
       "      <td></td>\n",
       "    </tr>\n",
       "    <tr>\n",
       "      <th>4</th>\n",
       "      <td>Austria</td>\n",
       "      <td>173</td>\n",
       "      <td>0</td>\n",
       "      <td></td>\n",
       "      <td></td>\n",
       "    </tr>\n",
       "    <tr>\n",
       "      <th>...</th>\n",
       "      <td>...</td>\n",
       "      <td>...</td>\n",
       "      <td>...</td>\n",
       "      <td>...</td>\n",
       "      <td>...</td>\n",
       "    </tr>\n",
       "    <tr>\n",
       "      <th>143</th>\n",
       "      <td>Venezuela</td>\n",
       "      <td>1327</td>\n",
       "      <td>0</td>\n",
       "      <td></td>\n",
       "      <td></td>\n",
       "    </tr>\n",
       "    <tr>\n",
       "      <th>144</th>\n",
       "      <td>Viet Nam</td>\n",
       "      <td>822</td>\n",
       "      <td>0</td>\n",
       "      <td></td>\n",
       "      <td></td>\n",
       "    </tr>\n",
       "    <tr>\n",
       "      <th>145</th>\n",
       "      <td>Virgin Islands</td>\n",
       "      <td>1</td>\n",
       "      <td>0</td>\n",
       "      <td></td>\n",
       "      <td></td>\n",
       "    </tr>\n",
       "    <tr>\n",
       "      <th>146</th>\n",
       "      <td>West Bank and Gaza Strip</td>\n",
       "      <td>146</td>\n",
       "      <td>0</td>\n",
       "      <td></td>\n",
       "      <td></td>\n",
       "    </tr>\n",
       "    <tr>\n",
       "      <th>147</th>\n",
       "      <td>Yemen</td>\n",
       "      <td>50</td>\n",
       "      <td>0</td>\n",
       "      <td></td>\n",
       "      <td></td>\n",
       "    </tr>\n",
       "  </tbody>\n",
       "</table>\n",
       "<p>148 rows × 5 columns</p>\n",
       "</div>"
      ],
      "text/plain": [
       "                      Country  Cumulative no. of cases  \\\n",
       "0                     Algeria                       19   \n",
       "1         Antigua and Barbuda                       12   \n",
       "2                   Argentina                    14045   \n",
       "3                   Australia                    39519   \n",
       "4                     Austria                      173   \n",
       "..                        ...                      ...   \n",
       "143                 Venezuela                     1327   \n",
       "144                  Viet Nam                      822   \n",
       "145            Virgin Islands                        1   \n",
       "146  West Bank and Gaza Strip                      146   \n",
       "147                     Yemen                       50   \n",
       "\n",
       "     Cumulative no. of deaths Lat Lng  \n",
       "0                           0          \n",
       "1                           0          \n",
       "2                         175          \n",
       "3                          39          \n",
       "4                           0          \n",
       "..                        ...  ..  ..  \n",
       "143                         0          \n",
       "144                         0          \n",
       "145                         0          \n",
       "146                         0          \n",
       "147                         0          \n",
       "\n",
       "[148 rows x 5 columns]"
      ]
     },
     "execution_count": 3,
     "metadata": {},
     "output_type": "execute_result"
    }
   ],
   "source": [
    "grouped_df['Lat'] = ''\n",
    "grouped_df['Lng'] = ''\n",
    "grouped_df.reset_index(inplace=True)\n",
    "grouped_df"
   ]
  },
  {
   "cell_type": "code",
   "execution_count": 4,
   "metadata": {},
   "outputs": [
    {
     "name": "stdout",
     "output_type": "stream",
     "text": [
      "Bermuda, UKOT not found. skipping....\n",
      "British Virgin Islands,  UKOT not found. skipping....\n",
      "British Virgin Islands, UKOT not found. skipping....\n",
      "Cayman Islands, UKOT not found. skipping....\n",
      "France, French Polynesia, FOC not found. skipping....\n",
      "France, Martinique, FOC not found. skipping....\n",
      "France, New Caledonia, FOC not found. skipping....\n",
      "French Polynesia, FOC not found. skipping....\n",
      "Guadaloupe, FOC not found. skipping....\n",
      "Martinique, FOC not found. skipping....\n",
      "Netherlands, Curacao, OT not found. skipping....\n",
      "New Caledonia, FOC not found. skipping....\n",
      "United Kingdom, Isle of Man, Crown Dependency not found. skipping....\n"
     ]
    },
    {
     "data": {
      "text/html": [
       "<div>\n",
       "<style scoped>\n",
       "    .dataframe tbody tr th:only-of-type {\n",
       "        vertical-align: middle;\n",
       "    }\n",
       "\n",
       "    .dataframe tbody tr th {\n",
       "        vertical-align: top;\n",
       "    }\n",
       "\n",
       "    .dataframe thead th {\n",
       "        text-align: right;\n",
       "    }\n",
       "</style>\n",
       "<table border=\"1\" class=\"dataframe\">\n",
       "  <thead>\n",
       "    <tr style=\"text-align: right;\">\n",
       "      <th></th>\n",
       "      <th>Country</th>\n",
       "      <th>Cumulative no. of cases</th>\n",
       "      <th>Cumulative no. of deaths</th>\n",
       "      <th>Lat</th>\n",
       "      <th>Lng</th>\n",
       "    </tr>\n",
       "  </thead>\n",
       "  <tbody>\n",
       "    <tr>\n",
       "      <th>0</th>\n",
       "      <td>Algeria</td>\n",
       "      <td>19</td>\n",
       "      <td>0</td>\n",
       "      <td>28.0339</td>\n",
       "      <td>1.65963</td>\n",
       "    </tr>\n",
       "    <tr>\n",
       "      <th>1</th>\n",
       "      <td>Antigua and Barbuda</td>\n",
       "      <td>12</td>\n",
       "      <td>0</td>\n",
       "      <td>17.0608</td>\n",
       "      <td>-61.7964</td>\n",
       "    </tr>\n",
       "    <tr>\n",
       "      <th>2</th>\n",
       "      <td>Argentina</td>\n",
       "      <td>14045</td>\n",
       "      <td>175</td>\n",
       "      <td>-38.4161</td>\n",
       "      <td>-63.6167</td>\n",
       "    </tr>\n",
       "    <tr>\n",
       "      <th>3</th>\n",
       "      <td>Australia</td>\n",
       "      <td>39519</td>\n",
       "      <td>39</td>\n",
       "      <td>-25.2744</td>\n",
       "      <td>133.775</td>\n",
       "    </tr>\n",
       "    <tr>\n",
       "      <th>4</th>\n",
       "      <td>Austria</td>\n",
       "      <td>173</td>\n",
       "      <td>0</td>\n",
       "      <td>47.5162</td>\n",
       "      <td>14.5501</td>\n",
       "    </tr>\n",
       "    <tr>\n",
       "      <th>5</th>\n",
       "      <td>Bahamas</td>\n",
       "      <td>46</td>\n",
       "      <td>0</td>\n",
       "      <td>25.0343</td>\n",
       "      <td>-77.3963</td>\n",
       "    </tr>\n",
       "    <tr>\n",
       "      <th>6</th>\n",
       "      <td>Bahrain</td>\n",
       "      <td>139</td>\n",
       "      <td>0</td>\n",
       "      <td>26.0667</td>\n",
       "      <td>50.5577</td>\n",
       "    </tr>\n",
       "    <tr>\n",
       "      <th>7</th>\n",
       "      <td>Bangladesh</td>\n",
       "      <td>35</td>\n",
       "      <td>0</td>\n",
       "      <td>23.685</td>\n",
       "      <td>90.3563</td>\n",
       "    </tr>\n",
       "    <tr>\n",
       "      <th>8</th>\n",
       "      <td>Barbados</td>\n",
       "      <td>84</td>\n",
       "      <td>0</td>\n",
       "      <td>13.1939</td>\n",
       "      <td>-59.5432</td>\n",
       "    </tr>\n",
       "    <tr>\n",
       "      <th>9</th>\n",
       "      <td>Belgium</td>\n",
       "      <td>505</td>\n",
       "      <td>0</td>\n",
       "      <td>50.5039</td>\n",
       "      <td>4.46994</td>\n",
       "    </tr>\n",
       "    <tr>\n",
       "      <th>10</th>\n",
       "      <td>Bermuda, UKOT</td>\n",
       "      <td>9</td>\n",
       "      <td>0</td>\n",
       "      <td></td>\n",
       "      <td></td>\n",
       "    </tr>\n",
       "    <tr>\n",
       "      <th>11</th>\n",
       "      <td>Bolivia</td>\n",
       "      <td>1200</td>\n",
       "      <td>0</td>\n",
       "      <td>-16.2902</td>\n",
       "      <td>-63.5887</td>\n",
       "    </tr>\n",
       "    <tr>\n",
       "      <th>12</th>\n",
       "      <td>Bosnia and Hezegovina</td>\n",
       "      <td>2</td>\n",
       "      <td>0</td>\n",
       "      <td>43.9159</td>\n",
       "      <td>17.6791</td>\n",
       "    </tr>\n",
       "    <tr>\n",
       "      <th>13</th>\n",
       "      <td>Brazil</td>\n",
       "      <td>4085</td>\n",
       "      <td>3</td>\n",
       "      <td>-14.235</td>\n",
       "      <td>-51.9253</td>\n",
       "    </tr>\n",
       "    <tr>\n",
       "      <th>14</th>\n",
       "      <td>British Virgin Islands,  UKOT</td>\n",
       "      <td>10</td>\n",
       "      <td>0</td>\n",
       "      <td></td>\n",
       "      <td></td>\n",
       "    </tr>\n",
       "    <tr>\n",
       "      <th>15</th>\n",
       "      <td>British Virgin Islands, UKOT</td>\n",
       "      <td>1</td>\n",
       "      <td>0</td>\n",
       "      <td></td>\n",
       "      <td></td>\n",
       "    </tr>\n",
       "    <tr>\n",
       "      <th>16</th>\n",
       "      <td>Brunei Darussalam</td>\n",
       "      <td>283</td>\n",
       "      <td>0</td>\n",
       "      <td>4.53528</td>\n",
       "      <td>114.728</td>\n",
       "    </tr>\n",
       "    <tr>\n",
       "      <th>17</th>\n",
       "      <td>Bulgaria</td>\n",
       "      <td>67</td>\n",
       "      <td>0</td>\n",
       "      <td>42.7339</td>\n",
       "      <td>25.4858</td>\n",
       "    </tr>\n",
       "    <tr>\n",
       "      <th>18</th>\n",
       "      <td>Cambodia</td>\n",
       "      <td>32</td>\n",
       "      <td>0</td>\n",
       "      <td>12.5657</td>\n",
       "      <td>104.991</td>\n",
       "    </tr>\n",
       "    <tr>\n",
       "      <th>19</th>\n",
       "      <td>Canada</td>\n",
       "      <td>88970</td>\n",
       "      <td>208</td>\n",
       "      <td>56.1304</td>\n",
       "      <td>-106.347</td>\n",
       "    </tr>\n",
       "  </tbody>\n",
       "</table>\n",
       "</div>"
      ],
      "text/plain": [
       "                          Country  Cumulative no. of cases  \\\n",
       "0                         Algeria                       19   \n",
       "1             Antigua and Barbuda                       12   \n",
       "2                       Argentina                    14045   \n",
       "3                       Australia                    39519   \n",
       "4                         Austria                      173   \n",
       "5                         Bahamas                       46   \n",
       "6                         Bahrain                      139   \n",
       "7                      Bangladesh                       35   \n",
       "8                        Barbados                       84   \n",
       "9                         Belgium                      505   \n",
       "10                  Bermuda, UKOT                        9   \n",
       "11                        Bolivia                     1200   \n",
       "12          Bosnia and Hezegovina                        2   \n",
       "13                         Brazil                     4085   \n",
       "14  British Virgin Islands,  UKOT                       10   \n",
       "15   British Virgin Islands, UKOT                        1   \n",
       "16              Brunei Darussalam                      283   \n",
       "17                       Bulgaria                       67   \n",
       "18                       Cambodia                       32   \n",
       "19                         Canada                    88970   \n",
       "\n",
       "    Cumulative no. of deaths      Lat      Lng  \n",
       "0                          0  28.0339  1.65963  \n",
       "1                          0  17.0608 -61.7964  \n",
       "2                        175 -38.4161 -63.6167  \n",
       "3                         39 -25.2744  133.775  \n",
       "4                          0  47.5162  14.5501  \n",
       "5                          0  25.0343 -77.3963  \n",
       "6                          0  26.0667  50.5577  \n",
       "7                          0   23.685  90.3563  \n",
       "8                          0  13.1939 -59.5432  \n",
       "9                          0  50.5039  4.46994  \n",
       "10                         0                    \n",
       "11                         0 -16.2902 -63.5887  \n",
       "12                         0  43.9159  17.6791  \n",
       "13                         3  -14.235 -51.9253  \n",
       "14                         0                    \n",
       "15                         0                    \n",
       "16                         0  4.53528  114.728  \n",
       "17                         0  42.7339  25.4858  \n",
       "18                         0  12.5657  104.991  \n",
       "19                       208  56.1304 -106.347  "
      ]
     },
     "execution_count": 4,
     "metadata": {},
     "output_type": "execute_result"
    }
   ],
   "source": [
    "# create a params dict that will be updated with new city each iteration\n",
    "params = {\"key\": gkey}\n",
    "lat = []\n",
    "lng = []\n",
    "# Loop through the cities_pd and run a lat/long search for each city\n",
    "for i,row in grouped_df.iterrows():\n",
    "    base_url = \"https://maps.googleapis.com/maps/api/geocode/json\"\n",
    "    \n",
    "    country = row['Country']\n",
    "    params['address'] = f\"{country}\"\n",
    "    try:\n",
    "        response = requests.get(base_url, params=params).json()    \n",
    "        grouped_df.loc[i, 'Lat'] = response[\"results\"][0][\"geometry\"][\"location\"][\"lat\"]\n",
    "        grouped_df.loc[i, 'Lng'] = response[\"results\"][0][\"geometry\"][\"location\"][\"lng\"]\n",
    "\n",
    "    except:\n",
    "        print(f\"{country} not found. skipping....\")\n",
    "        pass\n",
    "\n",
    "\n",
    "grouped_df.head(20)"
   ]
  },
  {
   "cell_type": "code",
   "execution_count": 5,
   "metadata": {},
   "outputs": [
    {
     "data": {
      "text/html": [
       "<div>\n",
       "<style scoped>\n",
       "    .dataframe tbody tr th:only-of-type {\n",
       "        vertical-align: middle;\n",
       "    }\n",
       "\n",
       "    .dataframe tbody tr th {\n",
       "        vertical-align: top;\n",
       "    }\n",
       "\n",
       "    .dataframe thead th {\n",
       "        text-align: right;\n",
       "    }\n",
       "</style>\n",
       "<table border=\"1\" class=\"dataframe\">\n",
       "  <thead>\n",
       "    <tr style=\"text-align: right;\">\n",
       "      <th></th>\n",
       "      <th>Country</th>\n",
       "      <th>Cumulative no. of cases</th>\n",
       "      <th>Cumulative no. of deaths</th>\n",
       "      <th>Lat</th>\n",
       "      <th>Lng</th>\n",
       "    </tr>\n",
       "  </thead>\n",
       "  <tbody>\n",
       "    <tr>\n",
       "      <th>0</th>\n",
       "      <td>Algeria</td>\n",
       "      <td>19</td>\n",
       "      <td>0</td>\n",
       "      <td>28.033886</td>\n",
       "      <td>1.65963</td>\n",
       "    </tr>\n",
       "    <tr>\n",
       "      <th>1</th>\n",
       "      <td>Antigua and Barbuda</td>\n",
       "      <td>12</td>\n",
       "      <td>0</td>\n",
       "      <td>17.060816</td>\n",
       "      <td>-61.7964</td>\n",
       "    </tr>\n",
       "    <tr>\n",
       "      <th>2</th>\n",
       "      <td>Argentina</td>\n",
       "      <td>14045</td>\n",
       "      <td>175</td>\n",
       "      <td>-38.416097</td>\n",
       "      <td>-63.6167</td>\n",
       "    </tr>\n",
       "    <tr>\n",
       "      <th>3</th>\n",
       "      <td>Australia</td>\n",
       "      <td>39519</td>\n",
       "      <td>39</td>\n",
       "      <td>-25.274398</td>\n",
       "      <td>133.775</td>\n",
       "    </tr>\n",
       "    <tr>\n",
       "      <th>4</th>\n",
       "      <td>Austria</td>\n",
       "      <td>173</td>\n",
       "      <td>0</td>\n",
       "      <td>47.516231</td>\n",
       "      <td>14.5501</td>\n",
       "    </tr>\n",
       "    <tr>\n",
       "      <th>...</th>\n",
       "      <td>...</td>\n",
       "      <td>...</td>\n",
       "      <td>...</td>\n",
       "      <td>...</td>\n",
       "      <td>...</td>\n",
       "    </tr>\n",
       "    <tr>\n",
       "      <th>143</th>\n",
       "      <td>Venezuela</td>\n",
       "      <td>1327</td>\n",
       "      <td>0</td>\n",
       "      <td>6.423750</td>\n",
       "      <td>-66.5897</td>\n",
       "    </tr>\n",
       "    <tr>\n",
       "      <th>144</th>\n",
       "      <td>Viet Nam</td>\n",
       "      <td>822</td>\n",
       "      <td>0</td>\n",
       "      <td>14.058324</td>\n",
       "      <td>108.277</td>\n",
       "    </tr>\n",
       "    <tr>\n",
       "      <th>145</th>\n",
       "      <td>Virgin Islands</td>\n",
       "      <td>1</td>\n",
       "      <td>0</td>\n",
       "      <td>18.335765</td>\n",
       "      <td>-64.8963</td>\n",
       "    </tr>\n",
       "    <tr>\n",
       "      <th>146</th>\n",
       "      <td>West Bank and Gaza Strip</td>\n",
       "      <td>146</td>\n",
       "      <td>0</td>\n",
       "      <td>31.354676</td>\n",
       "      <td>34.3088</td>\n",
       "    </tr>\n",
       "    <tr>\n",
       "      <th>147</th>\n",
       "      <td>Yemen</td>\n",
       "      <td>50</td>\n",
       "      <td>0</td>\n",
       "      <td>15.552727</td>\n",
       "      <td>48.5164</td>\n",
       "    </tr>\n",
       "  </tbody>\n",
       "</table>\n",
       "<p>135 rows × 5 columns</p>\n",
       "</div>"
      ],
      "text/plain": [
       "                      Country  Cumulative no. of cases  \\\n",
       "0                     Algeria                       19   \n",
       "1         Antigua and Barbuda                       12   \n",
       "2                   Argentina                    14045   \n",
       "3                   Australia                    39519   \n",
       "4                     Austria                      173   \n",
       "..                        ...                      ...   \n",
       "143                 Venezuela                     1327   \n",
       "144                  Viet Nam                      822   \n",
       "145            Virgin Islands                        1   \n",
       "146  West Bank and Gaza Strip                      146   \n",
       "147                     Yemen                       50   \n",
       "\n",
       "     Cumulative no. of deaths        Lat      Lng  \n",
       "0                           0  28.033886  1.65963  \n",
       "1                           0  17.060816 -61.7964  \n",
       "2                         175 -38.416097 -63.6167  \n",
       "3                          39 -25.274398  133.775  \n",
       "4                           0  47.516231  14.5501  \n",
       "..                        ...        ...      ...  \n",
       "143                         0   6.423750 -66.5897  \n",
       "144                         0  14.058324  108.277  \n",
       "145                         0  18.335765 -64.8963  \n",
       "146                         0  31.354676  34.3088  \n",
       "147                         0  15.552727  48.5164  \n",
       "\n",
       "[135 rows x 5 columns]"
      ]
     },
     "execution_count": 5,
     "metadata": {},
     "output_type": "execute_result"
    }
   ],
   "source": [
    "grouped_df['Lat'].replace('',np.nan,inplace = True)\n",
    "grouped_df = grouped_df.dropna()\n",
    "grouped_df"
   ]
  },
  {
   "cell_type": "code",
   "execution_count": 6,
   "metadata": {},
   "outputs": [
    {
     "data": {
      "application/vnd.jupyter.widget-view+json": {
       "model_id": "7e6c73bda1e2401dbc29037ba92eab49",
       "version_major": 2,
       "version_minor": 0
      },
      "text/plain": [
       "Figure(layout=FigureLayout(height='420px'))"
      ]
     },
     "metadata": {},
     "output_type": "display_data"
    }
   ],
   "source": [
    "# lat = grouped_df['Lat']\n",
    "# lng = grouped_df['Lng']\n",
    "locations = grouped_df[[\"Lat\", \"Lng\"]]\n",
    "\n",
    "rating = grouped_df[\"Cumulative no. of cases\"]\n",
    "# Plot Heatmap\n",
    "fig = gmaps.figure()\n",
    "\n",
    "# Create heat layer\n",
    "heat_layer = gmaps.heatmap_layer(locations,weights=rating, \n",
    "                                 dissipating=False, max_intensity=100,\n",
    "                                 point_radius=1)\n",
    "\n",
    "# Add layer\n",
    "fig.add_layer(heat_layer)\n",
    "\n",
    "# Display figure\n",
    "fig"
   ]
  },
  {
   "cell_type": "code",
   "execution_count": 7,
   "metadata": {},
   "outputs": [
    {
     "name": "stdout",
     "output_type": "stream",
     "text": [
      "7207.533333333334\n",
      "4613372.88172043\n"
     ]
    }
   ],
   "source": [
    "covid_df = pd.read_csv('Resources/Covid_new_data.csv')\n",
    "covid_grouped_df = covid_df.groupby(\"Country\").sum()\n",
    "mean_covid = covid_grouped_df['Total Cases'].mean()\n",
    "mean_h1n1 = grouped_df['Cumulative no. of cases'].mean()\n",
    "print(mean_h1n1)\n",
    "print(mean_covid)"
   ]
  },
  {
   "cell_type": "code",
   "execution_count": 8,
   "metadata": {},
   "outputs": [],
   "source": [
    "population1 = grouped_df['Cumulative no. of cases']\n",
    "population2 = covid_grouped_df['Total Cases']\n"
   ]
  },
  {
   "cell_type": "code",
   "execution_count": 9,
   "metadata": {
    "scrolled": true
   },
   "outputs": [
    {
     "data": {
      "text/plain": [
       "Ttest_indResult(statistic=-2.261364645194604, pvalue=0.024900607411744394)"
      ]
     },
     "execution_count": 9,
     "metadata": {},
     "output_type": "execute_result"
    }
   ],
   "source": [
    "# Calculate Independent (Two Sample) T-Test\n",
    "stats.ttest_ind(population1, population2, equal_var=False)"
   ]
  },
  {
   "cell_type": "code",
   "execution_count": 10,
   "metadata": {
    "scrolled": true
   },
   "outputs": [
    {
     "data": {
      "text/plain": [
       "(array([130.,   2.,   1.,   0.,   1.,   0.,   0.,   0.,   0.,   1.]),\n",
       " array([1.000000e+00, 4.185410e+04, 8.370720e+04, 1.255603e+05,\n",
       "        1.674134e+05, 2.092665e+05, 2.511196e+05, 2.929727e+05,\n",
       "        3.348258e+05, 3.766789e+05, 4.185320e+05]),\n",
       " <a list of 10 Patch objects>)"
      ]
     },
     "execution_count": 10,
     "metadata": {},
     "output_type": "execute_result"
    },
    {
     "data": {
      "image/png": "[encoded data removed]",
      "text/plain": [
       "<Figure size 432x288 with 1 Axes>"
      ]
     },
     "metadata": {
      "needs_background": "light"
     },
     "output_type": "display_data"
    }
   ],
   "source": [
    "plt.hist(population1)"
   ]
  },
  {
   "cell_type": "code",
   "execution_count": 11,
   "metadata": {
    "scrolled": true
   },
   "outputs": [
    {
     "data": {
      "text/plain": [
       "(array([16., 15., 24., 21., 19., 17., 12.,  5.,  4.,  2.]),\n",
       " array([ 0.        ,  1.29445086,  2.58890173,  3.88335259,  5.17780345,\n",
       "         6.47225431,  7.76670518,  9.06115604, 10.3556069 , 11.65005777,\n",
       "        12.94450863]),\n",
       " <a list of 10 Patch objects>)"
      ]
     },
     "execution_count": 11,
     "metadata": {},
     "output_type": "execute_result"
    },
    {
     "data": {
      "image/png": "[encoded data removed]",
      "text/plain": [
       "<Figure size 432x288 with 1 Axes>"
      ]
     },
     "metadata": {
      "needs_background": "light"
     },
     "output_type": "display_data"
    }
   ],
   "source": [
    "data = boxcox(population1,0)\n",
    "plt.hist(data)\n"
   ]
  },
  {
   "cell_type": "code",
   "execution_count": 12,
   "metadata": {},
   "outputs": [
    {
     "data": {
      "text/plain": [
       "(array([183.,   2.,   0.,   0.,   0.,   0.,   0.,   0.,   0.,   1.]),\n",
       " array([8.01000000e+02, 3.68308489e+07, 7.36608968e+07, 1.10490945e+08,\n",
       "        1.47320993e+08, 1.84151040e+08, 2.20981088e+08, 2.57811136e+08,\n",
       "        2.94641184e+08, 3.31471232e+08, 3.68301280e+08]),\n",
       " <a list of 10 Patch objects>)"
      ]
     },
     "execution_count": 12,
     "metadata": {},
     "output_type": "execute_result"
    },
    {
     "data": {
      "image/png": "[encoded data removed]",
      "text/plain": [
       "<Figure size 432x288 with 1 Axes>"
      ]
     },
     "metadata": {
      "needs_background": "light"
     },
     "output_type": "display_data"
    }
   ],
   "source": [
    "plt.hist(population2)"
   ]
  },
  {
   "cell_type": "code",
   "execution_count": 13,
   "metadata": {},
   "outputs": [
    {
     "data": {
      "text/plain": [
       "(array([14., 10., 17., 39., 37., 28., 23., 14.,  3.,  1.]),\n",
       " array([ 6.68586095,  7.98971604,  9.29357113, 10.59742622, 11.90128131,\n",
       "        13.2051364 , 14.50899149, 15.81284658, 17.11670167, 18.42055677,\n",
       "        19.72441186]),\n",
       " <a list of 10 Patch objects>)"
      ]
     },
     "execution_count": 13,
     "metadata": {},
     "output_type": "execute_result"
    },
    {
     "data": {
      "image/png": "[encoded data removed]",
      "text/plain": [
       "<Figure size 432x288 with 1 Axes>"
      ]
     },
     "metadata": {
      "needs_background": "light"
     },
     "output_type": "display_data"
    }
   ],
   "source": [
    "data2 = boxcox(population2,0)\n",
    "plt.hist(data2)"
   ]
  },
  {
   "cell_type": "code",
   "execution_count": 14,
   "metadata": {},
   "outputs": [
    {
     "data": {
      "text/plain": [
       "MannwhitneyuResult(statistic=749.0, pvalue=3.3389292177876497e-47)"
      ]
     },
     "execution_count": 14,
     "metadata": {},
     "output_type": "execute_result"
    }
   ],
   "source": [
    "test = stats.mannwhitneyu(population1,population2)\n",
    "test"
   ]
  },
  {
   "cell_type": "code",
   "execution_count": 15,
   "metadata": {},
   "outputs": [
    {
     "data": {
      "text/plain": [
       "Ttest_indResult(statistic=-24.04845127719355, pvalue=5.410365022856593e-69)"
      ]
     },
     "execution_count": 15,
     "metadata": {},
     "output_type": "execute_result"
    }
   ],
   "source": [
    "stats.ttest_ind(data, data2, equal_var=False)"
   ]
  },
  {
   "cell_type": "code",
   "execution_count": null,
   "metadata": {},
   "outputs": [],
   "source": []
  }
 ],
 "metadata": {
  "kernelspec": {
   "display_name": "Python [conda env:PythonData] *",
   "language": "python",
   "name": "conda-env-PythonData-py"
  },
  "language_info": {
   "codemirror_mode": {
    "name": "ipython",
    "version": 3
   },
   "file_extension": ".py",
   "mimetype": "text/x-python",
   "name": "python",
   "nbconvert_exporter": "python",
   "pygments_lexer": "ipython3",
   "version": "3.6.10"
  }
 },
 "nbformat": 4,
 "nbformat_minor": 4
}
