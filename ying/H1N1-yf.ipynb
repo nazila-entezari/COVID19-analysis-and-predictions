{
 "cells": [
  {
   "cell_type": "code",
   "execution_count": 1,
   "metadata": {},
   "outputs": [
    {
     "data": {
      "text/html": [
       "<div>\n",
       "<style scoped>\n",
       "    .dataframe tbody tr th:only-of-type {\n",
       "        vertical-align: middle;\n",
       "    }\n",
       "\n",
       "    .dataframe tbody tr th {\n",
       "        vertical-align: top;\n",
       "    }\n",
       "\n",
       "    .dataframe thead th {\n",
       "        text-align: right;\n",
       "    }\n",
       "</style>\n",
       "<table border=\"1\" class=\"dataframe\">\n",
       "  <thead>\n",
       "    <tr style=\"text-align: right;\">\n",
       "      <th></th>\n",
       "      <th>Date</th>\n",
       "      <th>Country</th>\n",
       "      <th>Cumulative no. of cases</th>\n",
       "      <th>Cumulative no. of deaths</th>\n",
       "      <th>Link</th>\n",
       "    </tr>\n",
       "  </thead>\n",
       "  <tbody>\n",
       "    <tr>\n",
       "      <th>0</th>\n",
       "      <td>2009-04-24</td>\n",
       "      <td>Mexico</td>\n",
       "      <td>18</td>\n",
       "      <td>0</td>\n",
       "      <td>https://www.who.int/csr/don/2009_04_24/en/</td>\n",
       "    </tr>\n",
       "    <tr>\n",
       "      <th>1</th>\n",
       "      <td>2009-04-24</td>\n",
       "      <td>United States of America</td>\n",
       "      <td>7</td>\n",
       "      <td>0</td>\n",
       "      <td>https://www.who.int/csr/don/2009_04_24/en/</td>\n",
       "    </tr>\n",
       "    <tr>\n",
       "      <th>2</th>\n",
       "      <td>2009-04-26</td>\n",
       "      <td>Mexico</td>\n",
       "      <td>18</td>\n",
       "      <td>0</td>\n",
       "      <td>https://www.who.int/csr/don/2009_04_24/en/</td>\n",
       "    </tr>\n",
       "    <tr>\n",
       "      <th>3</th>\n",
       "      <td>2009-04-26</td>\n",
       "      <td>United States of America</td>\n",
       "      <td>20</td>\n",
       "      <td>0</td>\n",
       "      <td>https://www.who.int/csr/don/2009_04_24/en/</td>\n",
       "    </tr>\n",
       "    <tr>\n",
       "      <th>4</th>\n",
       "      <td>2009-04-27</td>\n",
       "      <td>Canada</td>\n",
       "      <td>6</td>\n",
       "      <td>0</td>\n",
       "      <td>https://www.who.int/csr/don/2009_04_24/en/</td>\n",
       "    </tr>\n",
       "  </tbody>\n",
       "</table>\n",
       "</div>"
      ],
      "text/plain": [
       "         Date                   Country  Cumulative no. of cases  \\\n",
       "0  2009-04-24                    Mexico                       18   \n",
       "1  2009-04-24  United States of America                        7   \n",
       "2  2009-04-26                    Mexico                       18   \n",
       "3  2009-04-26  United States of America                       20   \n",
       "4  2009-04-27                    Canada                        6   \n",
       "\n",
       "   Cumulative no. of deaths                                        Link  \n",
       "0                         0  https://www.who.int/csr/don/2009_04_24/en/  \n",
       "1                         0  https://www.who.int/csr/don/2009_04_24/en/  \n",
       "2                         0  https://www.who.int/csr/don/2009_04_24/en/  \n",
       "3                         0  https://www.who.int/csr/don/2009_04_24/en/  \n",
       "4                         0  https://www.who.int/csr/don/2009_04_24/en/  "
      ]
     },
     "execution_count": 1,
     "metadata": {},
     "output_type": "execute_result"
    }
   ],
   "source": [
    "import pandas as pd\n",
    "import numpy as np\n",
    "import matplotlib.pyplot as plt\n",
    "import scipy.stats as stats\n",
    "\n",
    "data = pd.read_csv(\"../Resources/H1N1_dataset.csv\")\n",
    "data.head()\n"
   ]
  },
  {
   "cell_type": "code",
   "execution_count": 2,
   "metadata": {},
   "outputs": [
    {
     "data": {
      "text/html": [
       "<div>\n",
       "<style scoped>\n",
       "    .dataframe tbody tr th:only-of-type {\n",
       "        vertical-align: middle;\n",
       "    }\n",
       "\n",
       "    .dataframe tbody tr th {\n",
       "        vertical-align: top;\n",
       "    }\n",
       "\n",
       "    .dataframe thead th {\n",
       "        text-align: right;\n",
       "    }\n",
       "</style>\n",
       "<table border=\"1\" class=\"dataframe\">\n",
       "  <thead>\n",
       "    <tr style=\"text-align: right;\">\n",
       "      <th></th>\n",
       "      <th>Date</th>\n",
       "      <th>Country</th>\n",
       "      <th>Cumulative no. of cases</th>\n",
       "      <th>Cumulative no. of deaths</th>\n",
       "    </tr>\n",
       "  </thead>\n",
       "  <tbody>\n",
       "    <tr>\n",
       "      <th>0</th>\n",
       "      <td>2009-04-24</td>\n",
       "      <td>Mexico</td>\n",
       "      <td>18</td>\n",
       "      <td>0</td>\n",
       "    </tr>\n",
       "    <tr>\n",
       "      <th>1</th>\n",
       "      <td>2009-04-24</td>\n",
       "      <td>United States of America</td>\n",
       "      <td>7</td>\n",
       "      <td>0</td>\n",
       "    </tr>\n",
       "    <tr>\n",
       "      <th>2</th>\n",
       "      <td>2009-04-26</td>\n",
       "      <td>Mexico</td>\n",
       "      <td>18</td>\n",
       "      <td>0</td>\n",
       "    </tr>\n",
       "    <tr>\n",
       "      <th>3</th>\n",
       "      <td>2009-04-26</td>\n",
       "      <td>United States of America</td>\n",
       "      <td>20</td>\n",
       "      <td>0</td>\n",
       "    </tr>\n",
       "    <tr>\n",
       "      <th>4</th>\n",
       "      <td>2009-04-27</td>\n",
       "      <td>Canada</td>\n",
       "      <td>6</td>\n",
       "      <td>0</td>\n",
       "    </tr>\n",
       "    <tr>\n",
       "      <th>...</th>\n",
       "      <td>...</td>\n",
       "      <td>...</td>\n",
       "      <td>...</td>\n",
       "      <td>...</td>\n",
       "    </tr>\n",
       "    <tr>\n",
       "      <th>2485</th>\n",
       "      <td>2009-07-06</td>\n",
       "      <td>Venezuela</td>\n",
       "      <td>206</td>\n",
       "      <td>0</td>\n",
       "    </tr>\n",
       "    <tr>\n",
       "      <th>2486</th>\n",
       "      <td>2009-07-06</td>\n",
       "      <td>Viet Nam</td>\n",
       "      <td>181</td>\n",
       "      <td>0</td>\n",
       "    </tr>\n",
       "    <tr>\n",
       "      <th>2487</th>\n",
       "      <td>2009-07-06</td>\n",
       "      <td>Virgin Islands</td>\n",
       "      <td>1</td>\n",
       "      <td>0</td>\n",
       "    </tr>\n",
       "    <tr>\n",
       "      <th>2488</th>\n",
       "      <td>2009-07-06</td>\n",
       "      <td>West Bank and Gaza Strip</td>\n",
       "      <td>60</td>\n",
       "      <td>0</td>\n",
       "    </tr>\n",
       "    <tr>\n",
       "      <th>2489</th>\n",
       "      <td>2009-07-06</td>\n",
       "      <td>Yemen</td>\n",
       "      <td>8</td>\n",
       "      <td>0</td>\n",
       "    </tr>\n",
       "  </tbody>\n",
       "</table>\n",
       "<p>2490 rows × 4 columns</p>\n",
       "</div>"
      ],
      "text/plain": [
       "            Date                   Country  Cumulative no. of cases  \\\n",
       "0     2009-04-24                    Mexico                       18   \n",
       "1     2009-04-24  United States of America                        7   \n",
       "2     2009-04-26                    Mexico                       18   \n",
       "3     2009-04-26  United States of America                       20   \n",
       "4     2009-04-27                    Canada                        6   \n",
       "...          ...                       ...                      ...   \n",
       "2485  2009-07-06                 Venezuela                      206   \n",
       "2486  2009-07-06                  Viet Nam                      181   \n",
       "2487  2009-07-06            Virgin Islands                        1   \n",
       "2488  2009-07-06  West Bank and Gaza Strip                       60   \n",
       "2489  2009-07-06                     Yemen                        8   \n",
       "\n",
       "      Cumulative no. of deaths  \n",
       "0                            0  \n",
       "1                            0  \n",
       "2                            0  \n",
       "3                            0  \n",
       "4                            0  \n",
       "...                        ...  \n",
       "2485                         0  \n",
       "2486                         0  \n",
       "2487                         0  \n",
       "2488                         0  \n",
       "2489                         0  \n",
       "\n",
       "[2490 rows x 4 columns]"
      ]
     },
     "execution_count": 2,
     "metadata": {},
     "output_type": "execute_result"
    }
   ],
   "source": [
    "data_df = data[[\"Date\", \"Country\", \"Cumulative no. of cases\", \"Cumulative no. of deaths\"]]\n",
    "data_df"
   ]
  },
  {
   "cell_type": "code",
   "execution_count": 3,
   "metadata": {},
   "outputs": [
    {
     "data": {
      "text/plain": [
       "148"
      ]
     },
     "execution_count": 3,
     "metadata": {},
     "output_type": "execute_result"
    }
   ],
   "source": [
    "len(data_df.Country.unique())"
   ]
  },
  {
   "cell_type": "code",
   "execution_count": 4,
   "metadata": {},
   "outputs": [
    {
     "data": {
      "text/html": [
       "<div>\n",
       "<style scoped>\n",
       "    .dataframe tbody tr th:only-of-type {\n",
       "        vertical-align: middle;\n",
       "    }\n",
       "\n",
       "    .dataframe tbody tr th {\n",
       "        vertical-align: top;\n",
       "    }\n",
       "\n",
       "    .dataframe thead th {\n",
       "        text-align: right;\n",
       "    }\n",
       "</style>\n",
       "<table border=\"1\" class=\"dataframe\">\n",
       "  <thead>\n",
       "    <tr style=\"text-align: right;\">\n",
       "      <th></th>\n",
       "      <th>Date</th>\n",
       "      <th>Country</th>\n",
       "      <th>Total Cases</th>\n",
       "      <th>Total Deaths</th>\n",
       "    </tr>\n",
       "  </thead>\n",
       "  <tbody>\n",
       "    <tr>\n",
       "      <th>0</th>\n",
       "      <td>2009-04-24</td>\n",
       "      <td>Mexico</td>\n",
       "      <td>18</td>\n",
       "      <td>0</td>\n",
       "    </tr>\n",
       "    <tr>\n",
       "      <th>1</th>\n",
       "      <td>2009-04-24</td>\n",
       "      <td>United States of America</td>\n",
       "      <td>7</td>\n",
       "      <td>0</td>\n",
       "    </tr>\n",
       "    <tr>\n",
       "      <th>2</th>\n",
       "      <td>2009-04-26</td>\n",
       "      <td>Mexico</td>\n",
       "      <td>18</td>\n",
       "      <td>0</td>\n",
       "    </tr>\n",
       "    <tr>\n",
       "      <th>3</th>\n",
       "      <td>2009-04-26</td>\n",
       "      <td>United States of America</td>\n",
       "      <td>20</td>\n",
       "      <td>0</td>\n",
       "    </tr>\n",
       "    <tr>\n",
       "      <th>4</th>\n",
       "      <td>2009-04-27</td>\n",
       "      <td>Canada</td>\n",
       "      <td>6</td>\n",
       "      <td>0</td>\n",
       "    </tr>\n",
       "    <tr>\n",
       "      <th>...</th>\n",
       "      <td>...</td>\n",
       "      <td>...</td>\n",
       "      <td>...</td>\n",
       "      <td>...</td>\n",
       "    </tr>\n",
       "    <tr>\n",
       "      <th>2485</th>\n",
       "      <td>2009-07-06</td>\n",
       "      <td>Venezuela</td>\n",
       "      <td>206</td>\n",
       "      <td>0</td>\n",
       "    </tr>\n",
       "    <tr>\n",
       "      <th>2486</th>\n",
       "      <td>2009-07-06</td>\n",
       "      <td>Viet Nam</td>\n",
       "      <td>181</td>\n",
       "      <td>0</td>\n",
       "    </tr>\n",
       "    <tr>\n",
       "      <th>2487</th>\n",
       "      <td>2009-07-06</td>\n",
       "      <td>Virgin Islands</td>\n",
       "      <td>1</td>\n",
       "      <td>0</td>\n",
       "    </tr>\n",
       "    <tr>\n",
       "      <th>2488</th>\n",
       "      <td>2009-07-06</td>\n",
       "      <td>West Bank and Gaza Strip</td>\n",
       "      <td>60</td>\n",
       "      <td>0</td>\n",
       "    </tr>\n",
       "    <tr>\n",
       "      <th>2489</th>\n",
       "      <td>2009-07-06</td>\n",
       "      <td>Yemen</td>\n",
       "      <td>8</td>\n",
       "      <td>0</td>\n",
       "    </tr>\n",
       "  </tbody>\n",
       "</table>\n",
       "<p>2490 rows × 4 columns</p>\n",
       "</div>"
      ],
      "text/plain": [
       "            Date                   Country  Total Cases  Total Deaths\n",
       "0     2009-04-24                    Mexico           18             0\n",
       "1     2009-04-24  United States of America            7             0\n",
       "2     2009-04-26                    Mexico           18             0\n",
       "3     2009-04-26  United States of America           20             0\n",
       "4     2009-04-27                    Canada            6             0\n",
       "...          ...                       ...          ...           ...\n",
       "2485  2009-07-06                 Venezuela          206             0\n",
       "2486  2009-07-06                  Viet Nam          181             0\n",
       "2487  2009-07-06            Virgin Islands            1             0\n",
       "2488  2009-07-06  West Bank and Gaza Strip           60             0\n",
       "2489  2009-07-06                     Yemen            8             0\n",
       "\n",
       "[2490 rows x 4 columns]"
      ]
     },
     "execution_count": 4,
     "metadata": {},
     "output_type": "execute_result"
    }
   ],
   "source": [
    "data_df = data_df.rename(columns={\"Cumulative no. of cases\": \"Total Cases\", \"Cumulative no. of deaths\": \"Total Deaths\"})\n",
    "data_df"
   ]
  },
  {
   "cell_type": "code",
   "execution_count": 5,
   "metadata": {},
   "outputs": [
    {
     "data": {
      "text/html": [
       "<div>\n",
       "<style scoped>\n",
       "    .dataframe tbody tr th:only-of-type {\n",
       "        vertical-align: middle;\n",
       "    }\n",
       "\n",
       "    .dataframe tbody tr th {\n",
       "        vertical-align: top;\n",
       "    }\n",
       "\n",
       "    .dataframe thead th {\n",
       "        text-align: right;\n",
       "    }\n",
       "</style>\n",
       "<table border=\"1\" class=\"dataframe\">\n",
       "  <thead>\n",
       "    <tr style=\"text-align: right;\">\n",
       "      <th></th>\n",
       "      <th>first</th>\n",
       "      <th>last</th>\n",
       "    </tr>\n",
       "    <tr>\n",
       "      <th>Country</th>\n",
       "      <th></th>\n",
       "      <th></th>\n",
       "    </tr>\n",
       "  </thead>\n",
       "  <tbody>\n",
       "    <tr>\n",
       "      <th>Algeria</th>\n",
       "      <td>2009-06-22</td>\n",
       "      <td>2009-07-06</td>\n",
       "    </tr>\n",
       "    <tr>\n",
       "      <th>Antigua and Barbuda</th>\n",
       "      <td>2009-06-24</td>\n",
       "      <td>2009-07-06</td>\n",
       "    </tr>\n",
       "    <tr>\n",
       "      <th>Argentina</th>\n",
       "      <td>2009-05-09</td>\n",
       "      <td>2009-07-06</td>\n",
       "    </tr>\n",
       "    <tr>\n",
       "      <th>Australia</th>\n",
       "      <td>2009-05-09</td>\n",
       "      <td>2009-07-06</td>\n",
       "    </tr>\n",
       "    <tr>\n",
       "      <th>Austria</th>\n",
       "      <td>2009-04-29</td>\n",
       "      <td>2009-07-06</td>\n",
       "    </tr>\n",
       "    <tr>\n",
       "      <th>...</th>\n",
       "      <td>...</td>\n",
       "      <td>...</td>\n",
       "    </tr>\n",
       "    <tr>\n",
       "      <th>Venezuela</th>\n",
       "      <td>2009-06-01</td>\n",
       "      <td>2009-07-06</td>\n",
       "    </tr>\n",
       "    <tr>\n",
       "      <th>Viet Nam</th>\n",
       "      <td>2009-06-01</td>\n",
       "      <td>2009-07-06</td>\n",
       "    </tr>\n",
       "    <tr>\n",
       "      <th>Virgin Islands</th>\n",
       "      <td>2009-07-06</td>\n",
       "      <td>2009-07-06</td>\n",
       "    </tr>\n",
       "    <tr>\n",
       "      <th>West Bank and Gaza Strip</th>\n",
       "      <td>2009-06-15</td>\n",
       "      <td>2009-07-06</td>\n",
       "    </tr>\n",
       "    <tr>\n",
       "      <th>Yemen</th>\n",
       "      <td>2009-06-17</td>\n",
       "      <td>2009-07-06</td>\n",
       "    </tr>\n",
       "  </tbody>\n",
       "</table>\n",
       "<p>148 rows × 2 columns</p>\n",
       "</div>"
      ],
      "text/plain": [
       "                               first        last\n",
       "Country                                         \n",
       "Algeria                   2009-06-22  2009-07-06\n",
       "Antigua and Barbuda       2009-06-24  2009-07-06\n",
       "Argentina                 2009-05-09  2009-07-06\n",
       "Australia                 2009-05-09  2009-07-06\n",
       "Austria                   2009-04-29  2009-07-06\n",
       "...                              ...         ...\n",
       "Venezuela                 2009-06-01  2009-07-06\n",
       "Viet Nam                  2009-06-01  2009-07-06\n",
       "Virgin Islands            2009-07-06  2009-07-06\n",
       "West Bank and Gaza Strip  2009-06-15  2009-07-06\n",
       "Yemen                     2009-06-17  2009-07-06\n",
       "\n",
       "[148 rows x 2 columns]"
      ]
     },
     "execution_count": 5,
     "metadata": {},
     "output_type": "execute_result"
    }
   ],
   "source": [
    "date_df = data_df.groupby('Country')['Date'].agg(['min','max']).rename(columns={'min':'first','max':'last'})\n",
    "date_df"
   ]
  },
  {
   "cell_type": "code",
   "execution_count": 6,
   "metadata": {},
   "outputs": [],
   "source": [
    "data_df[\"Date\"] = pd.to_datetime(data_df[\"Date\"])"
   ]
  },
  {
   "cell_type": "code",
   "execution_count": 7,
   "metadata": {},
   "outputs": [
    {
     "data": {
      "text/html": [
       "<div>\n",
       "<style scoped>\n",
       "    .dataframe tbody tr th:only-of-type {\n",
       "        vertical-align: middle;\n",
       "    }\n",
       "\n",
       "    .dataframe tbody tr th {\n",
       "        vertical-align: top;\n",
       "    }\n",
       "\n",
       "    .dataframe thead th {\n",
       "        text-align: right;\n",
       "    }\n",
       "</style>\n",
       "<table border=\"1\" class=\"dataframe\">\n",
       "  <thead>\n",
       "    <tr style=\"text-align: right;\">\n",
       "      <th></th>\n",
       "      <th>Date</th>\n",
       "      <th>Country</th>\n",
       "      <th>Total Cases</th>\n",
       "      <th>Total Deaths</th>\n",
       "    </tr>\n",
       "  </thead>\n",
       "  <tbody>\n",
       "    <tr>\n",
       "      <th>2355</th>\n",
       "      <td>2009-07-06</td>\n",
       "      <td>Algeria</td>\n",
       "      <td>5</td>\n",
       "      <td>0</td>\n",
       "    </tr>\n",
       "    <tr>\n",
       "      <th>2356</th>\n",
       "      <td>2009-07-06</td>\n",
       "      <td>Antigua and Barbuda</td>\n",
       "      <td>2</td>\n",
       "      <td>0</td>\n",
       "    </tr>\n",
       "    <tr>\n",
       "      <th>2357</th>\n",
       "      <td>2009-07-06</td>\n",
       "      <td>Argentina</td>\n",
       "      <td>2485</td>\n",
       "      <td>60</td>\n",
       "    </tr>\n",
       "    <tr>\n",
       "      <th>2358</th>\n",
       "      <td>2009-07-06</td>\n",
       "      <td>Australia</td>\n",
       "      <td>5298</td>\n",
       "      <td>10</td>\n",
       "    </tr>\n",
       "    <tr>\n",
       "      <th>2359</th>\n",
       "      <td>2009-07-06</td>\n",
       "      <td>Austria</td>\n",
       "      <td>19</td>\n",
       "      <td>0</td>\n",
       "    </tr>\n",
       "    <tr>\n",
       "      <th>...</th>\n",
       "      <td>...</td>\n",
       "      <td>...</td>\n",
       "      <td>...</td>\n",
       "      <td>...</td>\n",
       "    </tr>\n",
       "    <tr>\n",
       "      <th>2485</th>\n",
       "      <td>2009-07-06</td>\n",
       "      <td>Venezuela</td>\n",
       "      <td>206</td>\n",
       "      <td>0</td>\n",
       "    </tr>\n",
       "    <tr>\n",
       "      <th>2486</th>\n",
       "      <td>2009-07-06</td>\n",
       "      <td>Viet Nam</td>\n",
       "      <td>181</td>\n",
       "      <td>0</td>\n",
       "    </tr>\n",
       "    <tr>\n",
       "      <th>2487</th>\n",
       "      <td>2009-07-06</td>\n",
       "      <td>Virgin Islands</td>\n",
       "      <td>1</td>\n",
       "      <td>0</td>\n",
       "    </tr>\n",
       "    <tr>\n",
       "      <th>2488</th>\n",
       "      <td>2009-07-06</td>\n",
       "      <td>West Bank and Gaza Strip</td>\n",
       "      <td>60</td>\n",
       "      <td>0</td>\n",
       "    </tr>\n",
       "    <tr>\n",
       "      <th>2489</th>\n",
       "      <td>2009-07-06</td>\n",
       "      <td>Yemen</td>\n",
       "      <td>8</td>\n",
       "      <td>0</td>\n",
       "    </tr>\n",
       "  </tbody>\n",
       "</table>\n",
       "<p>148 rows × 4 columns</p>\n",
       "</div>"
      ],
      "text/plain": [
       "           Date                   Country  Total Cases  Total Deaths\n",
       "2355 2009-07-06                   Algeria            5             0\n",
       "2356 2009-07-06       Antigua and Barbuda            2             0\n",
       "2357 2009-07-06                 Argentina         2485            60\n",
       "2358 2009-07-06                 Australia         5298            10\n",
       "2359 2009-07-06                   Austria           19             0\n",
       "...         ...                       ...          ...           ...\n",
       "2485 2009-07-06                 Venezuela          206             0\n",
       "2486 2009-07-06                  Viet Nam          181             0\n",
       "2487 2009-07-06            Virgin Islands            1             0\n",
       "2488 2009-07-06  West Bank and Gaza Strip           60             0\n",
       "2489 2009-07-06                     Yemen            8             0\n",
       "\n",
       "[148 rows x 4 columns]"
      ]
     },
     "execution_count": 7,
     "metadata": {},
     "output_type": "execute_result"
    }
   ],
   "source": [
    "total_df = data_df.loc[data_df.groupby('Country').Date.idxmax()]\n",
    "total_df\n"
   ]
  },
  {
   "cell_type": "code",
   "execution_count": 8,
   "metadata": {},
   "outputs": [
    {
     "name": "stdout",
     "output_type": "stream",
     "text": [
      "Global total deaths: 429\n",
      "Global total cases: 94577\n"
     ]
    }
   ],
   "source": [
    "sum_death = total_df[\"Total Deaths\"].sum()\n",
    "sum_total = total_df[\"Total Cases\"].sum()\n",
    "print(f\"Global total deaths: {sum_death}\")\n",
    "print(f\"Global total cases: {sum_total}\")"
   ]
  },
  {
   "cell_type": "code",
   "execution_count": 9,
   "metadata": {},
   "outputs": [
    {
     "data": {
      "text/plain": [
       "<BarContainer object of 2 artists>"
      ]
     },
     "execution_count": 9,
     "metadata": {},
     "output_type": "execute_result"
    },
    {
     "data": {
      "image/png": "[encoded data removed]",
      "text/plain": [
       "<Figure size 432x288 with 1 Axes>"
      ]
     },
     "metadata": {
      "needs_background": "light"
     },
     "output_type": "display_data"
    }
   ],
   "source": [
    "global_total = total_df[\"Total Cases\"].sum ()\n",
    "global_death = total_df[\"Total Deaths\"].sum()\n",
    "\n",
    "global_data = [global_total, global_death]\n",
    "\n",
    "xaxis = np.arange(len(global_data))\n",
    "\n",
    "plt.bar(xaxis, global_data, color='r', alpha=1, align=\"center\", tick_label=(\"Total Cases\", \"Total Deaths\"))\n",
    "# plt.title(\"\")\n",
    "# plt.xlabel(\"\")\n",
    "# plt.ylabel(\"\")\n"
   ]
  },
  {
   "cell_type": "code",
   "execution_count": 10,
   "metadata": {},
   "outputs": [
    {
     "data": {
      "text/plain": [
       "([<matplotlib.patches.Wedge at 0x7ff9e3bedeb8>,\n",
       "  <matplotlib.patches.Wedge at 0x7ff9e3bf9940>],\n",
       " [Text(-1.099889319181663, 0.015604023522730952, 'Total Cases'),\n",
       "  Text(1.0998893179946347, -0.0156041071932244, 'Total Deaths')],\n",
       " [Text(-0.5999396286445434, 0.008511285557853245, '99.5%'),\n",
       "  Text(0.5999396279970733, -0.008511331196304218, '0.5%')])"
      ]
     },
     "execution_count": 10,
     "metadata": {},
     "output_type": "execute_result"
    },
    {
     "data": {
      "image/png": "[encoded data removed]",
      "text/plain": [
       "<Figure size 432x288 with 1 Axes>"
      ]
     },
     "metadata": {},
     "output_type": "display_data"
    }
   ],
   "source": [
    "labels = [\"Total Cases\", \"Total Deaths\"]\n",
    "\n",
    "sizes = [global_total, global_death]\n",
    "\n",
    "# The colors of each section of the pie chart\n",
    "colors = [\"red\", \"blue\"]\n",
    "\n",
    "\n",
    "plt.pie(sizes, labels=labels, colors=colors,\n",
    "        autopct=\"%1.1f%%\", shadow=True, startangle=360)\n"
   ]
  },
  {
   "cell_type": "code",
   "execution_count": 11,
   "metadata": {},
   "outputs": [
    {
     "data": {
      "text/html": [
       "<div>\n",
       "<style scoped>\n",
       "    .dataframe tbody tr th:only-of-type {\n",
       "        vertical-align: middle;\n",
       "    }\n",
       "\n",
       "    .dataframe tbody tr th {\n",
       "        vertical-align: top;\n",
       "    }\n",
       "\n",
       "    .dataframe thead th {\n",
       "        text-align: right;\n",
       "    }\n",
       "</style>\n",
       "<table border=\"1\" class=\"dataframe\">\n",
       "  <thead>\n",
       "    <tr style=\"text-align: right;\">\n",
       "      <th></th>\n",
       "      <th>Date</th>\n",
       "      <th>Country</th>\n",
       "      <th>Total Cases</th>\n",
       "      <th>Total Deaths</th>\n",
       "    </tr>\n",
       "  </thead>\n",
       "  <tbody>\n",
       "    <tr>\n",
       "      <th>2482</th>\n",
       "      <td>2009-07-06</td>\n",
       "      <td>United States of America</td>\n",
       "      <td>33902</td>\n",
       "      <td>170</td>\n",
       "    </tr>\n",
       "    <tr>\n",
       "      <th>2431</th>\n",
       "      <td>2009-07-06</td>\n",
       "      <td>Mexico</td>\n",
       "      <td>10262</td>\n",
       "      <td>119</td>\n",
       "    </tr>\n",
       "    <tr>\n",
       "      <th>2373</th>\n",
       "      <td>2009-07-06</td>\n",
       "      <td>Canada</td>\n",
       "      <td>7983</td>\n",
       "      <td>25</td>\n",
       "    </tr>\n",
       "    <tr>\n",
       "      <th>2481</th>\n",
       "      <td>2009-07-06</td>\n",
       "      <td>United Kingdom</td>\n",
       "      <td>7447</td>\n",
       "      <td>3</td>\n",
       "    </tr>\n",
       "    <tr>\n",
       "      <th>2376</th>\n",
       "      <td>2009-07-06</td>\n",
       "      <td>Chile</td>\n",
       "      <td>7376</td>\n",
       "      <td>14</td>\n",
       "    </tr>\n",
       "    <tr>\n",
       "      <th>2358</th>\n",
       "      <td>2009-07-06</td>\n",
       "      <td>Australia</td>\n",
       "      <td>5298</td>\n",
       "      <td>10</td>\n",
       "    </tr>\n",
       "    <tr>\n",
       "      <th>2357</th>\n",
       "      <td>2009-07-06</td>\n",
       "      <td>Argentina</td>\n",
       "      <td>2485</td>\n",
       "      <td>60</td>\n",
       "    </tr>\n",
       "    <tr>\n",
       "      <th>2473</th>\n",
       "      <td>2009-07-06</td>\n",
       "      <td>Thailand</td>\n",
       "      <td>2076</td>\n",
       "      <td>7</td>\n",
       "    </tr>\n",
       "    <tr>\n",
       "      <th>2377</th>\n",
       "      <td>2009-07-06</td>\n",
       "      <td>China</td>\n",
       "      <td>2040</td>\n",
       "      <td>0</td>\n",
       "    </tr>\n",
       "    <tr>\n",
       "      <th>2416</th>\n",
       "      <td>2009-07-06</td>\n",
       "      <td>Japan</td>\n",
       "      <td>1790</td>\n",
       "      <td>0</td>\n",
       "    </tr>\n",
       "  </tbody>\n",
       "</table>\n",
       "</div>"
      ],
      "text/plain": [
       "           Date                   Country  Total Cases  Total Deaths\n",
       "2482 2009-07-06  United States of America        33902           170\n",
       "2431 2009-07-06                    Mexico        10262           119\n",
       "2373 2009-07-06                    Canada         7983            25\n",
       "2481 2009-07-06            United Kingdom         7447             3\n",
       "2376 2009-07-06                     Chile         7376            14\n",
       "2358 2009-07-06                 Australia         5298            10\n",
       "2357 2009-07-06                 Argentina         2485            60\n",
       "2473 2009-07-06                  Thailand         2076             7\n",
       "2377 2009-07-06                     China         2040             0\n",
       "2416 2009-07-06                     Japan         1790             0"
      ]
     },
     "execution_count": 11,
     "metadata": {},
     "output_type": "execute_result"
    }
   ],
   "source": [
    "sorted_total_df = total_df.sort_values(by=['Total Cases'], ascending=False)\n",
    "top_10 = sorted_total_df.iloc[0:10,:]\n",
    "top_10"
   ]
  },
  {
   "cell_type": "code",
   "execution_count": 12,
   "metadata": {},
   "outputs": [
    {
     "data": {
      "text/plain": [
       "([0, 1, 2, 3, 4, 5, 6, 7, 8, 9], <a list of 10 Text major ticklabel objects>)"
      ]
     },
     "execution_count": 12,
     "metadata": {},
     "output_type": "execute_result"
    },
    {
     "data": {
      "image/png": "[encoded data removed]",
      "text/plain": [
       "<Figure size 432x288 with 1 Axes>"
      ]
     },
     "metadata": {
      "needs_background": "light"
     },
     "output_type": "display_data"
    }
   ],
   "source": [
    "countries_10 = top_10[\"Country\"]\n",
    "total_cases_10 = top_10[\"Total Cases\"]\n",
    "\n",
    "plt.bar(countries_10, total_cases_10, color='b', alpha=1, align=\"center\")\n",
    "plt.xticks(rotation='vertical')\n",
    "# plt.title(\"\")\n",
    "# plt.xlabel(\"\")\n",
    "# plt.ylabel(\"\")"
   ]
  },
  {
   "cell_type": "code",
   "execution_count": 13,
   "metadata": {},
   "outputs": [
    {
     "data": {
      "text/html": [
       "<div>\n",
       "<style scoped>\n",
       "    .dataframe tbody tr th:only-of-type {\n",
       "        vertical-align: middle;\n",
       "    }\n",
       "\n",
       "    .dataframe tbody tr th {\n",
       "        vertical-align: top;\n",
       "    }\n",
       "\n",
       "    .dataframe thead th {\n",
       "        text-align: right;\n",
       "    }\n",
       "</style>\n",
       "<table border=\"1\" class=\"dataframe\">\n",
       "  <thead>\n",
       "    <tr style=\"text-align: right;\">\n",
       "      <th></th>\n",
       "      <th>Date</th>\n",
       "      <th>Country</th>\n",
       "      <th>Total Cases</th>\n",
       "      <th>Total Deaths</th>\n",
       "    </tr>\n",
       "  </thead>\n",
       "  <tbody>\n",
       "    <tr>\n",
       "      <th>2482</th>\n",
       "      <td>2009-07-06</td>\n",
       "      <td>United States of America</td>\n",
       "      <td>33902</td>\n",
       "      <td>170</td>\n",
       "    </tr>\n",
       "    <tr>\n",
       "      <th>2431</th>\n",
       "      <td>2009-07-06</td>\n",
       "      <td>Mexico</td>\n",
       "      <td>10262</td>\n",
       "      <td>119</td>\n",
       "    </tr>\n",
       "    <tr>\n",
       "      <th>2357</th>\n",
       "      <td>2009-07-06</td>\n",
       "      <td>Argentina</td>\n",
       "      <td>2485</td>\n",
       "      <td>60</td>\n",
       "    </tr>\n",
       "    <tr>\n",
       "      <th>2373</th>\n",
       "      <td>2009-07-06</td>\n",
       "      <td>Canada</td>\n",
       "      <td>7983</td>\n",
       "      <td>25</td>\n",
       "    </tr>\n",
       "    <tr>\n",
       "      <th>2376</th>\n",
       "      <td>2009-07-06</td>\n",
       "      <td>Chile</td>\n",
       "      <td>7376</td>\n",
       "      <td>14</td>\n",
       "    </tr>\n",
       "    <tr>\n",
       "      <th>2358</th>\n",
       "      <td>2009-07-06</td>\n",
       "      <td>Australia</td>\n",
       "      <td>5298</td>\n",
       "      <td>10</td>\n",
       "    </tr>\n",
       "    <tr>\n",
       "      <th>2473</th>\n",
       "      <td>2009-07-06</td>\n",
       "      <td>Thailand</td>\n",
       "      <td>2076</td>\n",
       "      <td>7</td>\n",
       "    </tr>\n",
       "    <tr>\n",
       "      <th>2483</th>\n",
       "      <td>2009-07-06</td>\n",
       "      <td>Uruguay</td>\n",
       "      <td>195</td>\n",
       "      <td>4</td>\n",
       "    </tr>\n",
       "    <tr>\n",
       "      <th>2481</th>\n",
       "      <td>2009-07-06</td>\n",
       "      <td>United Kingdom</td>\n",
       "      <td>7447</td>\n",
       "      <td>3</td>\n",
       "    </tr>\n",
       "    <tr>\n",
       "      <th>2380</th>\n",
       "      <td>2009-07-06</td>\n",
       "      <td>Costa Rica</td>\n",
       "      <td>277</td>\n",
       "      <td>3</td>\n",
       "    </tr>\n",
       "  </tbody>\n",
       "</table>\n",
       "</div>"
      ],
      "text/plain": [
       "           Date                   Country  Total Cases  Total Deaths\n",
       "2482 2009-07-06  United States of America        33902           170\n",
       "2431 2009-07-06                    Mexico        10262           119\n",
       "2357 2009-07-06                 Argentina         2485            60\n",
       "2373 2009-07-06                    Canada         7983            25\n",
       "2376 2009-07-06                     Chile         7376            14\n",
       "2358 2009-07-06                 Australia         5298            10\n",
       "2473 2009-07-06                  Thailand         2076             7\n",
       "2483 2009-07-06                   Uruguay          195             4\n",
       "2481 2009-07-06            United Kingdom         7447             3\n",
       "2380 2009-07-06                Costa Rica          277             3"
      ]
     },
     "execution_count": 13,
     "metadata": {},
     "output_type": "execute_result"
    }
   ],
   "source": [
    "sorted_death_df = total_df.sort_values(by=['Total Deaths'], ascending=False)\n",
    "top_10_deaths = sorted_death_df.iloc[0:10,:]\n",
    "top_10_deaths"
   ]
  },
  {
   "cell_type": "code",
   "execution_count": 14,
   "metadata": {},
   "outputs": [
    {
     "data": {
      "image/png": "[encoded data removed]",
      "text/plain": [
       "<Figure size 432x288 with 1 Axes>"
      ]
     },
     "metadata": {
      "needs_background": "light"
     },
     "output_type": "display_data"
    }
   ],
   "source": [
    "countries_deaths_10 = top_10_deaths[\"Country\"]\n",
    "total_deaths_10 = top_10_deaths[\"Total Deaths\"]\n",
    "total_cases_10_2 = top_10_deaths[\"Total Cases\"]\n",
    "\n",
    "# indx = np.arange(len(countries_deaths_10))\n",
    "\n",
    "# bar_width = 0.25\n",
    "\n",
    "# fig, ax = plt.subplots()\n",
    "# bar_total = ax.bar(indx-bar_width/2, total_deaths_10, bar_width, label=\"Top 10 deaths\")\n",
    "# bar_death = ax.bar(indx+bar_width/2, total_cases_10_2, bar_width, label=\"Top 10 total\")\n",
    "\n",
    "plt.bar(countries_deaths_10, total_deaths_10, color='r', alpha=1, align=\"center\")\n",
    "plt.xticks(rotation='vertical')\n",
    "plt.show()\n",
    "# plt.title(\"\")\n",
    "# plt.xlabel(\"\")\n",
    "# plt.ylabel(\"\")"
   ]
  },
  {
   "cell_type": "code",
   "execution_count": 15,
   "metadata": {},
   "outputs": [
    {
     "data": {
      "text/plain": [
       "3722.12"
      ]
     },
     "execution_count": 15,
     "metadata": {},
     "output_type": "execute_result"
    }
   ],
   "source": [
    "population1 = data_df[data_df[\"Country\"] == \"Mexico\"]\n",
    "population1[\"Total Cases\"].mean()"
   ]
  },
  {
   "cell_type": "code",
   "execution_count": 16,
   "metadata": {},
   "outputs": [
    {
     "data": {
      "text/plain": [
       "8370.64"
      ]
     },
     "execution_count": 16,
     "metadata": {},
     "output_type": "execute_result"
    }
   ],
   "source": [
    "population2 = data_df[data_df[\"Country\"] == \"United States of America\"]\n",
    "population2[\"Total Cases\"].mean()"
   ]
  },
  {
   "cell_type": "code",
   "execution_count": 17,
   "metadata": {},
   "outputs": [
    {
     "data": {
      "text/plain": [
       "Ttest_indResult(statistic=-3.3986408799299217, pvalue=0.0012209694207049055)"
      ]
     },
     "execution_count": 17,
     "metadata": {},
     "output_type": "execute_result"
    }
   ],
   "source": [
    "stats.ttest_ind(population1[\"Total Cases\"], population2[\"Total Cases\"], equal_var=False)"
   ]
  },
  {
   "cell_type": "code",
   "execution_count": 18,
   "metadata": {},
   "outputs": [
    {
     "data": {
      "text/plain": [
       "Ttest_1sampResult(statistic=4.040468279057268, pvalue=0.00019611476626483942)"
      ]
     },
     "execution_count": 18,
     "metadata": {},
     "output_type": "execute_result"
    }
   ],
   "source": [
    "population = data_df[\"Total Cases\"]\n",
    "sample = data_df[data_df[\"Country\"] == \"Canada\"]\n",
    "stats.ttest_1samp(sample[\"Total Cases\"], population.mean())\n"
   ]
  },
  {
   "cell_type": "code",
   "execution_count": 20,
   "metadata": {},
   "outputs": [
    {
     "data": {
      "text/html": [
       "<div>\n",
       "<style scoped>\n",
       "    .dataframe tbody tr th:only-of-type {\n",
       "        vertical-align: middle;\n",
       "    }\n",
       "\n",
       "    .dataframe tbody tr th {\n",
       "        vertical-align: top;\n",
       "    }\n",
       "\n",
       "    .dataframe thead th {\n",
       "        text-align: right;\n",
       "    }\n",
       "</style>\n",
       "<table border=\"1\" class=\"dataframe\">\n",
       "  <thead>\n",
       "    <tr style=\"text-align: right;\">\n",
       "      <th></th>\n",
       "      <th>Date</th>\n",
       "      <th>Total Cases</th>\n",
       "      <th>Total Deaths</th>\n",
       "    </tr>\n",
       "  </thead>\n",
       "  <tbody>\n",
       "    <tr>\n",
       "      <th>0</th>\n",
       "      <td>2009-04-24</td>\n",
       "      <td>25</td>\n",
       "      <td>0</td>\n",
       "    </tr>\n",
       "    <tr>\n",
       "      <th>1</th>\n",
       "      <td>2009-04-26</td>\n",
       "      <td>38</td>\n",
       "      <td>0</td>\n",
       "    </tr>\n",
       "    <tr>\n",
       "      <th>2</th>\n",
       "      <td>2009-04-27</td>\n",
       "      <td>73</td>\n",
       "      <td>7</td>\n",
       "    </tr>\n",
       "    <tr>\n",
       "      <th>3</th>\n",
       "      <td>2009-04-28</td>\n",
       "      <td>105</td>\n",
       "      <td>7</td>\n",
       "    </tr>\n",
       "    <tr>\n",
       "      <th>4</th>\n",
       "      <td>2009-04-29</td>\n",
       "      <td>149</td>\n",
       "      <td>8</td>\n",
       "    </tr>\n",
       "  </tbody>\n",
       "</table>\n",
       "</div>"
      ],
      "text/plain": [
       "        Date  Total Cases  Total Deaths\n",
       "0 2009-04-24           25             0\n",
       "1 2009-04-26           38             0\n",
       "2 2009-04-27           73             7\n",
       "3 2009-04-28          105             7\n",
       "4 2009-04-29          149             8"
      ]
     },
     "execution_count": 20,
     "metadata": {},
     "output_type": "execute_result"
    }
   ],
   "source": [
    "grouped_data = data_df.groupby(\"Date\").sum()\n",
    "grouped_data_df = grouped_data.reset_index()\n",
    "grouped_data_df.head()"
   ]
  },
  {
   "cell_type": "code",
   "execution_count": 21,
   "metadata": {},
   "outputs": [
    {
     "data": {
      "image/png": "[encoded data removed]",
      "text/plain": [
       "<Figure size 432x288 with 1 Axes>"
      ]
     },
     "metadata": {
      "needs_background": "light"
     },
     "output_type": "display_data"
    }
   ],
   "source": [
    "plt.plot(grouped_data_df[\"Date\"], grouped_data_df[\"Total Cases\"])\n",
    "plt.show()"
   ]
  },
  {
   "cell_type": "code",
   "execution_count": 23,
   "metadata": {},
   "outputs": [
    {
     "data": {
      "image/png": "[encoded data removed]",
      "text/plain": [
       "<Figure size 432x288 with 1 Axes>"
      ]
     },
     "metadata": {
      "needs_background": "light"
     },
     "output_type": "display_data"
    }
   ],
   "source": [
    "plt.plot(grouped_data_df[\"Date\"], grouped_data_df[\"Total Deaths\"])\n",
    "plt.show()"
   ]
  },
  {
   "cell_type": "code",
   "execution_count": null,
   "metadata": {},
   "outputs": [],
   "source": []
  }
 ],
 "metadata": {
  "kernelspec": {
   "display_name": "Python [conda env:PythonData] *",
   "language": "python",
   "name": "conda-env-PythonData-py"
  },
  "language_info": {
   "codemirror_mode": {
    "name": "ipython",
    "version": 3
   },
   "file_extension": ".py",
   "mimetype": "text/x-python",
   "name": "python",
   "nbconvert_exporter": "python",
   "pygments_lexer": "ipython3",
   "version": "3.6.10"
  }
 },
 "nbformat": 4,
 "nbformat_minor": 4
}
